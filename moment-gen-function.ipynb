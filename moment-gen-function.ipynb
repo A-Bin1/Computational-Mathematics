{
 "cells": [
  {
   "cell_type": "markdown",
   "metadata": {},
   "source": [
    "Moment-Generating Function: Sample Problems"
   ]
  },
  {
   "cell_type": "markdown",
   "metadata": {},
   "source": [
    "Over 473,000 adult Chinook salmon were estimated by the Pacific Salmon Commission to have passed through the Salish Sea (2018). Suppose the number of salmon near Sooke tagged per mile of shore, Y, has a Poisson distribution with mean 𝜆 = 9. The labor of tagging is $4 per fish, plus a fixed overhead cost for travel expenses at $100. If C denotes the total tagging cost for a randomly selected mile, find the expected value and standard deviation for C in dollars."
   ]
  },
  {
   "cell_type": "markdown",
   "metadata": {},
   "source": [
    "$$\n",
    "\\lambda = 9\n",
    "$$\n",
    "$$\n",
    "C = 100 + 4𝜆\n",
    "$$\n",
    "$$\n",
    "\\mu = E(C) = E(100 + 4𝜆) = 100 + 4(9) = \\$ 136\n",
    "$$\n",
    "\n",
    "$$\n",
    "\\sigma = 4\\sqrt(\\lambda) = 4\\sqrt(9) = \\$ 12\n",
    "$$"
   ]
  },
  {
   "cell_type": "markdown",
   "metadata": {},
   "source": [
    "For a prestigious publishing company, the number of approved works per ton of manuscripts, Y, has a Poisson distribution with mean 𝜆 = 30. The approved works are distributed with a cost of $1 per copy, plus a fixed overhead cost for advertising at $50. If C denotes the total launch cost for a randomly selected ton of manuscripts, find the expected value and standard deviation for C in dollars."
   ]
  },
  {
   "cell_type": "markdown",
   "metadata": {},
   "source": [
    "$$\n",
    "\\lambda = 30\n",
    "$$\n",
    "$$\n",
    "C = 50 + 𝜆\n",
    "$$\n",
    "$$\n",
    "\\mu = E(C) = E(50 + 𝜆) = 50 + (30) = \\$ 80\n",
    "$$\n",
    "\n",
    "$$\n",
    "\\sigma = \\sqrt(\\lambda) = \\sqrt(30) = \\$ 5.48\n",
    "$$"
   ]
  },
  {
   "cell_type": "markdown",
   "metadata": {},
   "source": [
    "For an East section of a cedar forest, the number of diseased trees per acre, Y, has a Poisson distribution with mean 𝜆 = 13. The diseased trees are sprayed with an insecticide at a cost of $4 per tree, plus a fixed overhead cost for equipment rental at $60. If C denotes the total spraying cost for a randomly selected acre, find the expected value and standard deviation for C in dollars."
   ]
  },
  {
   "cell_type": "markdown",
   "metadata": {},
   "source": [
    "$$\n",
    "\\lambda = 13\n",
    "$$\n",
    "$$\n",
    "C = 60 + 4𝜆\n",
    "$$\n",
    "$$\n",
    "\\mu = E(C) = E(60 + 4𝜆) = 60 + 4(13) = \\$ 112\n",
    "$$\n",
    "\n",
    "$$\n",
    "\\sigma = 4\\sqrt(\\lambda) = 4\\sqrt(13) = \\$ 14.422\n",
    "$$"
   ]
  },
  {
   "cell_type": "markdown",
   "metadata": {},
   "source": [
    "A desert typically contains around 1000 insects per square mile. Suppose the amount of beetles per square foot, Y, has a Poisson distribution with mean 𝜆 = 3. The beetles are to be collected at a cost of $5 per beetle, plus a fixed overhead cost for travel expenses at $100. If C denotes the total collection cost, find the expected value and standard deviation for C in dollars."
   ]
  },
  {
   "cell_type": "markdown",
   "metadata": {},
   "source": [
    "$$\n",
    "\\lambda = 3\n",
    "$$\n",
    "$$\n",
    "C = 100 + 5𝜆\n",
    "$$\n",
    "$$\n",
    "\\mu = E(C) = E(100 + 5𝜆) = 100 + 5(3) = \\$ 115\n",
    "$$\n",
    "\n",
    "$$\n",
    "\\sigma = 5\\sqrt(\\lambda) = 5\\sqrt(3) = \\$ 8.66\n",
    "$$"
   ]
  }
 ],
 "metadata": {
  "language_info": {
   "name": "python"
  }
 },
 "nbformat": 4,
 "nbformat_minor": 2
}
