{
 "cells": [
  {
   "cell_type": "markdown",
   "metadata": {},
   "source": [
    "More Challenging Cumulative Distribution Function Problems & Introduction to Cumulative Density Function (Continuous Random Variables)"
   ]
  },
  {
   "cell_type": "markdown",
   "metadata": {},
   "source": [
    "---\n",
    "A wildlife researcher has found that Western Cottonmouths are rarely responsible for snake bite fatalities, and the probability is 0.009. If a field has four Western Cottonmouths, what is the probability that it will take fewer than six people to come into contact and receive a fatal bite?"
   ]
  },
  {
   "cell_type": "markdown",
   "metadata": {},
   "source": [
    "$$\n",
    "p = 0.009\n",
    "$$\n",
    "$$\n",
    "Fewer \\space than \\space 6 \\space people = P(R<6) = {4-1\\choose 4-1}(0.009)^4(0.991)^{4-4} + {5-1\\choose 4-1}(0.009)^4(0.991)^{5-4}\n",
    "$$\n",
    "$$\n",
    "= (0.009)^{4} + 4(0.009)^{4}(0.991) = 0.000000006561 + 0.000000026007804 = 0.000000032568804\n",
    "$$"
   ]
  },
  {
   "cell_type": "markdown",
   "metadata": {},
   "source": [
    "A wildlife researcher has found that Timber Rattlesnakes are rarely responsible for snake bite fatalities, and the probability is 0.009. If a field has four Timber Rattlesnakes, what is the probability that it will take fewer than 50 people to come into contact and receive a fatal bite?"
   ]
  },
  {
   "cell_type": "markdown",
   "metadata": {},
   "source": [
    "$$\n",
    "p = 0.009\n",
    "$$\n",
    "$$\n",
    "Fewer \\space than \\space 50 \\space people = P(R<50) = {48-1\\choose 48-1}(0.009)^4(0.991)^{48-4} + {49-1\\choose 48-1}(0.009)^4(0.991)^{49-4}\n",
    "$$\n",
    "$$\n",
    "= (0.009)^{4}(0.991)^{44} + 47(0.009)^{4}(0.991)^{45} = 2.097e^{-7}\n",
    "$$"
   ]
  },
  {
   "cell_type": "markdown",
   "metadata": {},
   "source": [
    "Northern Pacific Rattlesnakes are responsible for 98% of snakebites in the US. (https://www.ncbi.nlm.nih.gov/pmc/articles/PMC8126537/) \n",
    "\n",
    "Suppose members of a hiking group touring from out of state chose to ignore basic protocol and common sense while hiking in rattlesnake country. What is the probability that it will take fewer than 6 people to poke 4 rattlesnakes off-trail with a stick and receive a bite?"
   ]
  },
  {
   "cell_type": "markdown",
   "metadata": {},
   "source": [
    "$$\n",
    "p = 0.009\n",
    "$$\n",
    "$$\n",
    "Fewer \\space than \\space 6 \\space people = P(R<6) = {4-1\\choose 4-1}(0.98)^4(0.02)^{4-4} + {5-1\\choose 4-1}(0.98)^4(0.02)^{5-4}\n",
    "$$\n",
    "$$\n",
    "= (0.98)^{4} + 4(0.98)^{4}(0.02) = 0.9962\n",
    "$$"
   ]
  },
  {
   "cell_type": "markdown",
   "metadata": {},
   "source": [
    "Goblin Sharks have been known to occupy depths ranging between 890 – 3,150 feet. (https://animals.net/goblin-shark/)\n",
    "\n",
    "Suppose a Goblin Shark swims at most 150 meters per week. His weekly distance shows a relative frequency behavior that increases steadily up to 100 meters and then levels off between 100 and 150 meters. If Y denotes weekly distance in hundreds of meters, the relative frequency of demand can be modeled by:"
   ]
  },
  {
   "cell_type": "markdown",
   "metadata": {},
   "source": [
    "$$\n",
    "f(y) = \\left\\{\\begin{matrix} y, \\space 0 \\leq y \\leq 1 \\\\\n",
    "1, \\space \\space 1 \\leq y \\leq 1.5 \\\\\n",
    "0,\\space elsewhere\\\\\n",
    "\\end{matrix}\\right\\}\n",
    "$$"
   ]
  },
  {
   "cell_type": "markdown",
   "metadata": {},
   "source": [
    "\n",
    "Find F(y)\n",
    "\n",
    "$$\n",
    "f(y) = \\left\\{\\begin{matrix} 0, \\space \\space y \\leq 0 \\\\\n",
    "\\frac{y^2}{2}, \\space \\space 0 \\leq y \\leq 1 \\\\\n",
    "y - \\frac{1}{2},\\space 0 < y \\leq 1.5\\\\\n",
    "1,\\space y > 1.5\\\\\n",
    "\\end{matrix}\\right\\}\n",
    "$$"
   ]
  }
 ],
 "metadata": {
  "language_info": {
   "name": "python"
  }
 },
 "nbformat": 4,
 "nbformat_minor": 2
}
