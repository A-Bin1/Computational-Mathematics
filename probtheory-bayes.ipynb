{
 "cells": [
  {
   "cell_type": "markdown",
   "metadata": {},
   "source": [
    "Revisiting Bayes Theorem: Assortment of Sample Problems"
   ]
  },
  {
   "cell_type": "markdown",
   "metadata": {},
   "source": [
    "----\n",
    "A national conference is sponsoring a raffle for free admission. Each contestant must guess the number of gumballs in a gumball machine. Of those who submit an answer, only the contestants within 10 gumballs of the correct answer are considered for the free admission raffle. 79% of contestants from Region 1 entered and 1% qualified for the raffle. 86% of Region 2 entered and 6% qualified. 90% of Region 3 entered and 5% qualified. (No one guessed the exact amount.) What is the probability the raffle winner is from Region 1?\n",
    "\n"
   ]
  },
  {
   "cell_type": "markdown",
   "metadata": {},
   "source": [
    "$$\n",
    "P(R1) = 0.79, \\space P(R2) = 0.86, \\space P(R3) = 0.90\n",
    "$$\n",
    "$$\n",
    "P(Q|R1) = 0.01, \\space P(Q|R2) = 0.06, \\space P(Q|R3) = 0.05\n",
    "$$\n",
    "$$\n",
    "P(Q) = P(Q|R1)P(R1) \\space + \\space P(Q|R2)P(R2) \\space + \\space P(Q|R3)P(R3)\n",
    "$$\n",
    "$$\n",
    "= (0.01)(0.79) + (0.06)(0.86) + (0.05)(0.90)\n",
    "$$ \n",
    "$$\n",
    "= 0.0079 + 0.0516 + 0.045\n",
    "$$\n",
    "$$\n",
    "P(Q) = 0.1045"
   ]
  },
  {
   "cell_type": "markdown",
   "metadata": {},
   "source": [
    "Probability of Region 1 given Raffle winner (selecting from the qualifier pool)\n",
    "$$\n",
    "P(R1|Q) = \\frac{ P(Q|R1)(P(R1))}{P(Q)} = \\frac{(0.01)(0.79)}{(0.1045)} = \\frac{0.0079}{0.1045} = 0.0756"
   ]
  },
  {
   "cell_type": "markdown",
   "metadata": {},
   "source": [
    "----\n",
    "DragonSkin provides stingray-resistant water boots boasting 85% effectiveness. A surf shop orders DragonSkin boots in four separate shipments of equal quantities. Suppose due to the unfortunate supply chain issues (inclement weather, poor handling, bad storage practices, etc.), this decreased the effective rate for an estimated 0.5% of the first shipment of boots, 1.2% of the second, 1.3% of the third, and 0.4% of the fourth. If the shipments were unpacked and consolidated into a bin before being placed in the storefront, what is the probability of randomly selecting a less-effective pair of boots?"
   ]
  },
  {
   "cell_type": "markdown",
   "metadata": {},
   "source": [
    "$$\n",
    "P(S1) = 0.25, \\space P(S2) = 0.25, \\space P(S3) = 0.25, \\space P(S4) = 0.25\n",
    "$$\n",
    "$$\n",
    "P(LE|S1) = 0.005, \\space P(LE|S2) = 0.012, \\space P(LE|S3) = 0.013, \\space P(LE|S4) = 0.004\n",
    "$$\n",
    "$$\n",
    "P(LE) = P(LE|S1)P(S1) \\space + \\space P(LE|S2)P(S2) \\space + \\space P(LE|S3)P(S3) + \\space P(LE|S4)P(S4)\n",
    "$$\n",
    "$$\n",
    "= (0.005)(0.25) + (0.012)(0.25) + (0.013)(0.25) + (0.004)(0.25)\n",
    "$$ \n",
    "$$\n",
    "= (0.00125) + (0.003) + (0.00325) + (0.001)\n",
    "$$\n",
    "$$\n",
    "P(LE) = 0.0085"
   ]
  },
  {
   "cell_type": "markdown",
   "metadata": {},
   "source": [
    "----\n",
    "A geodesic dome lodge near Torres Del Paine offers skylight and mountain views. Suppose 20% of the domes have the skylight view and the rest have mountain views among 20 total. A week before the trip, staff notify you there are maintenance issues with your booked dome and need to place you in a different one. There are three domes available to pick from and you were hoping for another mountain view option. What is the probability exactly all three have mountain views?"
   ]
  },
  {
   "cell_type": "markdown",
   "metadata": {},
   "source": [
    "Boolean Values: Mountain, Skylight\n",
    "\n",
    "Among 20 Domes with 1 out due to maintenance (mountain view).\n",
    "\n",
    "20% * 20 = 4 Domes with Skylight\n",
    "\n",
    "80% * 20 = 16 Domes with Mountain\n",
    "\n",
    "Population: 19 (15 domes with Mountain)\n",
    "\n",
    "p = 15/19\n",
    "\n",
    "Sample Size : 3\n",
    "\n",
    "Use the Binomial Distribution where success p = Mountain View:\n",
    "$$\n",
    "Pr(M = 3) = {n\\choose M}(p)^M(1-p)^{n-M}\n",
    "$$\n",
    "$$\n",
    "Pr(M = 3) = {19\\choose 3}(\\frac{15}{19})^3(1-\\frac{15}{19})^{19-3}"
   ]
  },
  {
   "cell_type": "code",
   "execution_count": 26,
   "metadata": {},
   "outputs": [
    {
     "data": {
      "text/plain": [
       "7.099683644200336e-09"
      ]
     },
     "execution_count": 26,
     "metadata": {},
     "output_type": "execute_result"
    }
   ],
   "source": [
    "import math\n",
    "p = 15/19\n",
    "p_n = 1-p\n",
    "ans = math.comb(19,3) * p**3 * p_n**16\n",
    "ans"
   ]
  },
  {
   "cell_type": "markdown",
   "metadata": {},
   "source": [
    "Comparison of solution to binom function:"
   ]
  },
  {
   "cell_type": "code",
   "execution_count": 17,
   "metadata": {},
   "outputs": [
    {
     "data": {
      "text/plain": [
       "7.0996836442003364e-09"
      ]
     },
     "execution_count": 17,
     "metadata": {},
     "output_type": "execute_result"
    }
   ],
   "source": [
    "import scipy.stats as sc\n",
    "\n",
    "p = 15/19\n",
    "\n",
    "sc.binom.pmf(3, 19, p)\n"
   ]
  },
  {
   "cell_type": "markdown",
   "metadata": {},
   "source": [
    "-------\n",
    "A black water rafting company provides helmets and assorted gear for the experience. An order of helmets arrived in two boxes. 20% of helmets in Box 1 are red and 40% of helmets in Box 2 are blue.\n",
    "\n",
    "What is the probability of selecting a blue helmet?"
   ]
  },
  {
   "cell_type": "markdown",
   "metadata": {},
   "source": [
    "$$\n",
    "P(Blue) = P(Blue|B1)P(B1) + P(Blue|B2)P(B2)\n",
    "$$\n",
    "$$\n",
    "P(Blue) = (0.8)(0.5) + (0.4)(0.5) = 0.4 + 0.2 = 0.6\n"
   ]
  }
 ],
 "metadata": {
  "kernelspec": {
   "display_name": "Python 3",
   "language": "python",
   "name": "python3"
  },
  "language_info": {
   "codemirror_mode": {
    "name": "ipython",
    "version": 3
   },
   "file_extension": ".py",
   "mimetype": "text/x-python",
   "name": "python",
   "nbconvert_exporter": "python",
   "pygments_lexer": "ipython3",
   "version": "3.11.3"
  }
 },
 "nbformat": 4,
 "nbformat_minor": 2
}
