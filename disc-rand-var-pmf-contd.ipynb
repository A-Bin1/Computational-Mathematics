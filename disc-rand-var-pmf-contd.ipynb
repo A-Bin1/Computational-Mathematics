{
 "cells": [
  {
   "cell_type": "markdown",
   "metadata": {},
   "source": [
    "Discrete Random Variable Applications: PMF and CDF (cont'd)"
   ]
  },
  {
   "cell_type": "markdown",
   "metadata": {},
   "source": [
    "---\n",
    "A survey found 51% of Americans think stormy weather \"affects\" cloud computing.\n",
    " \n",
    "(https://www.businessinsider.com/people-think-stormy-weather-affects-cloud-computing-2012-8)\n",
    "\n",
    "If 4 Americans were randomly selected, what is the probability at most 2 think stormy weather affects cloud computing?"
   ]
  },
  {
   "cell_type": "markdown",
   "metadata": {},
   "source": [
    "$$\n",
    "P(Y=0) = {4\\choose 0}(0.51)^{0}(0.49)^{4} = 0.05764801\n",
    "$$\n",
    "$$\n",
    "P(Y=1) = {4\\choose 1}(0.51)^{1}(0.49)^{3} = 0.24000396\n",
    "$$\n",
    "$$\n",
    "P(Y=2) = {4\\choose 2}(0.51)^{2}(0.49)^{2} = 0.37470006\n",
    "$$\n",
    "$$\n",
    "P(Y=0) + P(Y=1) + P(Y=2) = 0.05764801 + 0.24000396 + 0.37470006 = 0.67235203\n",
    "$$"
   ]
  },
  {
   "cell_type": "markdown",
   "metadata": {},
   "source": [
    "----\n",
    "Dragonflies have a 95% success rate in killing their prey. (https://www.factretriever.com/dragonfly-facts)\n",
    "\n",
    "If 3 dragonflies are randomly selected, what is the probability at least 1 successfully kills their prey?"
   ]
  },
  {
   "cell_type": "markdown",
   "metadata": {},
   "source": [
    "$$\n",
    "Pr(Y \\geq 1) = 1 - Pr(Y<1) = 1- P(Y=0)\n",
    "$$\n",
    "$$\n",
    "P(Y=0) = {3\\choose 0}(0.95)^{0}(0.05)^{3} = 0.000125\n",
    "$$\n",
    "$$\n",
    "P(Y \\geq 1) = 1 - 0.000125 = 0.999875\n",
    "$$"
   ]
  },
  {
   "cell_type": "markdown",
   "metadata": {},
   "source": [
    "---\n",
    "The odds of getting attacked by a shark are 1 in 3,748,067 (https://www.floridamuseum.ufl.edu/shark-attacks/odds/compare-risk/death/)\n",
    "\n",
    "What is the probability of at least 2 out of 100 randomly selected people will get attacked by a shark?"
   ]
  },
  {
   "cell_type": "markdown",
   "metadata": {},
   "source": [
    "$$\n",
    "Pr(Y \\geq 2) = 1 - Pr(Y<2) = 1- (P(Y=0) + P(Y = 1))\n",
    "$$\n",
    "$$\n",
    "P(Y=0) = {100\\choose 0}(success)^{0}(fail)^{100}\n",
    "$$\n",
    "$$\n",
    "P(Y=1) = {100\\choose 1}(success)^{1}(fail)^{99}\n",
    "$$\n",
    "$$\n",
    "Pr(Y \\geq 2) = \\frac{1586855}{4503599627370496}\n",
    "$$"
   ]
  },
  {
   "cell_type": "code",
   "execution_count": 8,
   "metadata": {},
   "outputs": [
    {
     "name": "stdout",
     "output_type": "stream",
     "text": [
      "3.5235259154831056e-10\n"
     ]
    },
    {
     "data": {
      "text/plain": [
       "Fraction(1586855, 4503599627370496)"
      ]
     },
     "execution_count": 8,
     "metadata": {},
     "output_type": "execute_result"
    }
   ],
   "source": [
    "success = 1/3748067\n",
    "fail = 3748066/3748067\n",
    "\n",
    "py0 = fail**100\n",
    "\n",
    "f99 = fail**99\n",
    "py1 = 100*success*f99\n",
    "\n",
    "py1_py0 = py0+py1\n",
    "\n",
    "from fractions import Fraction\n",
    "\n",
    "print(1-py1_py0)\n",
    "Fraction(1 - py1_py0)"
   ]
  },
  {
   "cell_type": "markdown",
   "metadata": {},
   "source": [
    "---\n",
    "The odds of nonfatal injuries by a toilet are 1 in 10,000. Roughly 17% of those injuries result in fractures.\n",
    "\n",
    "(https://www.cdc.gov/mmwr/preview/mmwrhtml/mm6022a1.htm?s_cid=mm6022a1_w)\n",
    "\n",
    "If you were told more than 1 of 4 toilet-injured patients suffered a fracture, what is the probability all 4 have fractures?"
   ]
  },
  {
   "cell_type": "markdown",
   "metadata": {},
   "source": [
    "$$\n",
    "\\frac{P(X=4 \\space and \\space X>1)}{P(X>1)}\n",
    "$$\n",
    "$$\n",
    "P(X=0) = {4\\choose 0}(0.17)^{0}(0.83)^{4} = 0.47458321\n",
    "$$\n",
    "$$\n",
    "P(X = 1) = {4\\choose 1}(0.17)^{1}(0.83)^{3} = 0.38881516\n",
    "$$\n",
    "$$\n",
    "P(X > 1) = 1 - (0.47458321 + 0.38881516) = 0.13660163\n",
    "$$\n",
    "$$\n",
    "P(X=4) = {4\\choose 4}(0.17)^{4}(0.83)^{0} = 0.00083521\n",
    "$$\n",
    "$$\n",
    "\\frac{0.00083521*0.13660163}{0.13660163} = 0.00083521\n",
    "$$"
   ]
  },
  {
   "cell_type": "markdown",
   "metadata": {},
   "source": [
    "---\n",
    "If there is a 30% chance of rain for two days in Revelstoke, what is the probability at least one of those days will not rain?"
   ]
  },
  {
   "cell_type": "markdown",
   "metadata": {},
   "source": [
    "$$\n",
    "P(X<2) = P(X = 0) + P(X = 1)\n",
    "$$\n",
    "$$\n",
    "P(X=0) = {2\\choose 0}(0.3)^{0}(0.7)^{2} = 0.49\n",
    "$$\n",
    "$$\n",
    "P(X = 1) = {2\\choose 1}(0.3)^{1}(0.7)^{1} = 0.42\n",
    "$$\n",
    "$$\n",
    "P(X = 2) = {2\\choose 2}(0.3)^{2}(0.7)^{0} = 0.09\n",
    "$$\n",
    "$$\n",
    "P(X<2) = 0.91\n",
    "$$"
   ]
  },
  {
   "cell_type": "markdown",
   "metadata": {},
   "source": [
    "If there is a 60% chance of sun for two days in Gibsons, what is the probability at least one of those days will not rain?"
   ]
  },
  {
   "cell_type": "markdown",
   "metadata": {},
   "source": [
    "$$\n",
    "P(X \\geq 1) = P(X = 1) + P(X = 2)\n",
    "$$\n",
    "$$\n",
    "P(X=0) = {2\\choose 0}(0.6)^{0}(0.4)^{2} = 0.16\n",
    "$$\n",
    "$$\n",
    "P(X = 1) = {2\\choose 1}(0.6)^{1}(0.4)^{1} = 0.48\n",
    "$$\n",
    "$$\n",
    "P(X = 2) = {2\\choose 2}(0.6)^{2}(0.4)^{0} = 0.36\n",
    "$$\n",
    "$$\n",
    "P(X \\geq 1) = 0.84\n",
    "$$"
   ]
  },
  {
   "cell_type": "markdown",
   "metadata": {},
   "source": [
    "If there is a 60% chance of rain for two days on Kintyre Peninsula, what is the probability at least one of those days is sunny?"
   ]
  },
  {
   "cell_type": "markdown",
   "metadata": {},
   "source": [
    "$$\n",
    "P(X<2) = P(X = 1) + P(X = 2)\n",
    "$$\n",
    "$$\n",
    "P(X=0) = {2\\choose 0}(0.6)^{0}(0.4)^{2} = 0.16\n",
    "$$\n",
    "$$\n",
    "P(X = 1) = {2\\choose 1}(0.6)^{1}(0.4)^{1} = 0.48\n",
    "$$\n",
    "$$\n",
    "P(X = 2) = {2\\choose 2}(0.6)^{2}(0.4)^{0} = 0.36\n",
    "$$\n",
    "$$\n",
    "P(X<2) = 0.64\n",
    "$$"
   ]
  }
 ],
 "metadata": {
  "kernelspec": {
   "display_name": "Python 3",
   "language": "python",
   "name": "python3"
  },
  "language_info": {
   "codemirror_mode": {
    "name": "ipython",
    "version": 3
   },
   "file_extension": ".py",
   "mimetype": "text/x-python",
   "name": "python",
   "nbconvert_exporter": "python",
   "pygments_lexer": "ipython3",
   "version": "3.11.3"
  }
 },
 "nbformat": 4,
 "nbformat_minor": 2
}
