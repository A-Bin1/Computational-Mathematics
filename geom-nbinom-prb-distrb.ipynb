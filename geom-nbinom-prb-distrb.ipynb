{
 "cells": [
  {
   "cell_type": "markdown",
   "metadata": {},
   "source": [
    "Geometric and Negative Binomial Distribution Example Problems\n",
    "\n",
    "Note: an oustanding question of what is considered truly memoryless outside of the generic coin flips and lottery ticket problems and what is considered without replacement in most real life applications is still in question when creating these problems."
   ]
  },
  {
   "cell_type": "markdown",
   "metadata": {},
   "source": [
    "----\n",
    "A man threw a 3.5 foot alligator through a Wendy’s drive-thru window to allegedly prank a friend who worked there. (https://www.yahoo.com/news/florida-man-charged-with-tossing-live-alligator-into-wendys-drivethru-220015568.html)\n",
    "\n",
    "Let's pretend he didn't know what Wendy's his friend worked at and only knew his hours. If the probability of choosing the right Wendy's is 0.03 among an unknown amount of restaurants, what is the probability he will find his friend working on the fourth guess?"
   ]
  },
  {
   "cell_type": "markdown",
   "metadata": {},
   "source": [
    "Geometric Distribution involves Counting the Number of 'Failures' until the First 'Success'\n",
    "\n",
    "$$\n",
    "p(y) = (1-p)^{y}p\n",
    "$$\n",
    "p = 0.03 chance of finding the right Wendy's among all the restaurants. (Assumption of no phone/map available)\n",
    "\n",
    "y = number of failures = 3\n",
    "\n",
    "q = (1-p) = 0.97\n",
    "$$\n",
    "P[X = 4th \\space Guess] = (0.97)^{3}(0.03) = 0.0274\n",
    "$$"
   ]
  },
  {
   "cell_type": "markdown",
   "metadata": {},
   "source": [
    "----\n",
    "A large shipment of clothing arrives in boxes to a department store. The probability the stock associate is successful finding a burnt orange sweater in one of the boxes is 0.029. How many boxes would the associate expect to open?"
   ]
  },
  {
   "cell_type": "markdown",
   "metadata": {},
   "source": [
    "$$\n",
    "E[X] = \\frac{1}{0.029} = 34.483 =  35 \\space Boxes\n",
    "$$"
   ]
  },
  {
   "cell_type": "markdown",
   "metadata": {},
   "source": [
    "A large shipment of clothing arrives in boxes to a department store. The probability the stock associate is successful finding a grey t-shirt in one of the boxes is 0.10. If the stock associate only has time to open at most 14 boxes, what is the probability of failing to find a grey beanie?"
   ]
  },
  {
   "cell_type": "markdown",
   "metadata": {},
   "source": [
    "$$\n",
    "X = Success = 0.10\n",
    "$$\n",
    "$$\n",
    "P(X > 14) = P(X \\geq 15) = (0.9)^{14} = 0.2288\n",
    "$$"
   ]
  },
  {
   "cell_type": "markdown",
   "metadata": {},
   "source": [
    " -----\n",
    " International Classification of Diseases (ICD) for research regarding coal mining and related health effects found nearly 40% of all ICDs identified were ICD categories of cancer. (https://bmcpublichealth.biomedcentral.com/articles/10.1186/s12889-018-5505-7#Sec6) \n",
    " Where most studies found high frequencies of lung and colon cancer.\n",
    "\n",
    "Suppose workers at the coal mine in Svalbard are being tested for black lung disease. The mine is requested to send 3 employees presenting symptoms back to the mainland for medical imaging.\n",
    "\n",
    "If 58% of miners present symptoms of black lung, find the probability that 17 employees must get medical imaging done in order to find 3 positive results.\n"
   ]
  },
  {
   "cell_type": "markdown",
   "metadata": {},
   "source": [
    "Negative Binomial Distribution\n",
    "$$\n",
    "P(Y = 17) = {17-1\\choose 3-1}(0.58)^{3}(0.42)^{17-3}\n",
    "$$"
   ]
  },
  {
   "cell_type": "code",
   "execution_count": 2,
   "metadata": {},
   "outputs": [
    {
     "name": "stdout",
     "output_type": "stream",
     "text": [
      "0.00012443865039650216\n"
     ]
    }
   ],
   "source": [
    "import math\n",
    "ncr = math.comb(16,2)\n",
    "p = 0.58**3\n",
    "q = 0.42**14\n",
    "\n",
    "result = ncr * p * q\n",
    "print(result)"
   ]
  },
  {
   "cell_type": "markdown",
   "metadata": {},
   "source": [
    "---\n",
    "A shipment of colored gemstones arrive to a boutique jeweler. They need to assemble several pieces using Moissanite, Aquamarine, Lapis Lazuli, assorted colors of Sapphire, and Quartz. The probability of finding a gemstone from the shipment to complement an order for a dark ring set is 0.15. If the jeweler has time to scour at most 3 boxes of gemstones, what is the probability of failing to find the complementary colored gemstone?\n",
    "\n",
    "$$\n",
    "P(X > 3) = P(X \\geq 4) = (0.85)^{3} = 0.614125\n",
    "$$"
   ]
  }
 ],
 "metadata": {
  "kernelspec": {
   "display_name": "Python 3",
   "language": "python",
   "name": "python3"
  },
  "language_info": {
   "codemirror_mode": {
    "name": "ipython",
    "version": 3
   },
   "file_extension": ".py",
   "mimetype": "text/x-python",
   "name": "python",
   "nbconvert_exporter": "python",
   "pygments_lexer": "ipython3",
   "version": "3.11.3"
  }
 },
 "nbformat": 4,
 "nbformat_minor": 2
}
