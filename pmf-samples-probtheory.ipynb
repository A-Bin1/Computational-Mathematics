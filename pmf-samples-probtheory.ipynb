{
 "cells": [
  {
   "cell_type": "markdown",
   "metadata": {},
   "source": [
    "Probability Mass Function PMF Example Problems"
   ]
  },
  {
   "cell_type": "markdown",
   "metadata": {},
   "source": [
    "---\n",
    "Pine trees near a lake were planted where signs of soil erosion were identified. Assume these 4 pine trees have a maturation success of 50%. What is the probability of all 4 reaching maturation?"
   ]
  },
  {
   "cell_type": "markdown",
   "metadata": {},
   "source": [
    "$$\n",
    "P(Maturation=4)= {4\\choose 4}(0.50)^4(0.50)^0= 0.0625\n",
    "$$"
   ]
  },
  {
   "cell_type": "markdown",
   "metadata": {},
   "source": [
    "---\n",
    "Designer brand authentication services are available to avoid purchasing counterfeit products. Suppose one of these businesses employ two inspectors. Inspector 1 will always pass newer styles of handbags as authentic due to bribery and other conflicts of interest. Inspector 2 will automatically red flag any product fake due to personal influence of Pascal's Wager and anti-consumerism. 5 people submit photos of 5 different handbags for inspection and the inspector is randomly selected.\n",
    "\n",
    "If all 5 handbags are new to market and fake, what is the probability that 1 of the 5 will be flagged fake?"
   ]
  },
  {
   "cell_type": "markdown",
   "metadata": {},
   "source": [
    "$$\n",
    "P(Flagged=1)= {5\\choose 1}(0.50)^1(0.50)^4= 5(0.0625)(0.5) = 0.015625\n",
    "$$"
   ]
  },
  {
   "cell_type": "markdown",
   "metadata": {},
   "source": [
    "----\n",
    "A Juice Shop offers wellness shots where the probability of measurable improvement (success) is 40%. If 8 customers bought and consumed 1 shot each, what's the probability of selling 4 'success' wellness shots?"
   ]
  },
  {
   "cell_type": "markdown",
   "metadata": {},
   "source": [
    "$$\n",
    "P(Actual \\space Results=4)= {8\\choose 4}(0.40)^4(0.60)^4= 70(0.0256)(0.1296) = 0.2322432\n",
    "$$"
   ]
  },
  {
   "cell_type": "markdown",
   "metadata": {},
   "source": [
    "---\n",
    "A steakhouse employs 2 sous chefs where each have a 7% probability of cooking the steaks incorrectly. If 5 steaks are ordered, what is the probability that 4 of the 5 are cooked incorrectly assuming a random chef cooks each one?"
   ]
  },
  {
   "cell_type": "markdown",
   "metadata": {},
   "source": [
    "$$\n",
    "P(Incorrect=4)= {5\\choose 4}(0.07)^4(0.93)^1= 5(0.00002401)(0.93) = 0.0001116465\n",
    "$$"
   ]
  },
  {
   "cell_type": "markdown",
   "metadata": {},
   "source": [
    "---\n",
    "Hopewell Rocks can be seen in the water or on land depending on the tide. The time between a high and low tide in the Bay of Fundy is an average of 6 hours and 13 minutes with two high and two low tides each day. Suppose you select a random day to visit Hopewell Rocks at 1 PM. What is the probability of seeing the rocks on land?"
   ]
  },
  {
   "cell_type": "markdown",
   "metadata": {},
   "source": [
    "The assumption of 1 PM means arriving and leaving within the time frame of 1 existing tide.\n",
    "$$\n",
    "P(Land=1)= {2\\choose 1}(0.50)^1(0.50)^1= 2(0.25) = 0.5\n",
    "$$"
   ]
  },
  {
   "cell_type": "markdown",
   "metadata": {},
   "source": [
    "----\n",
    "A team of translators are hired to decypher a written work. 80% or more accurately translated is considered a success and the probability of the translators succeeding is 90%. Suppose one standard 8 x 10 page translated at least 80% accurately is considered a success. What is the probability the translators will inaccurately translate 30 out of 100 pages?"
   ]
  },
  {
   "cell_type": "markdown",
   "metadata": {},
   "source": [
    "$$\n",
    "P(Inaccurate=30)= {100\\choose 30}(0.1)^{30}(0.9)^{70}\n",
    "$$"
   ]
  },
  {
   "cell_type": "code",
   "execution_count": 9,
   "metadata": {},
   "outputs": [
    {
     "name": "stdout",
     "output_type": "stream",
     "text": [
      "1.84040839176528e-08\n"
     ]
    }
   ],
   "source": [
    "import math\n",
    "\n",
    "pages = math.comb(100,30)\n",
    "\n",
    "inaccurate = 0.1**30\n",
    "success = 0.9**70\n",
    "\n",
    "ans = pages * inaccurate * success\n",
    "print(ans)"
   ]
  }
 ],
 "metadata": {
  "kernelspec": {
   "display_name": "Python 3",
   "language": "python",
   "name": "python3"
  },
  "language_info": {
   "codemirror_mode": {
    "name": "ipython",
    "version": 3
   },
   "file_extension": ".py",
   "mimetype": "text/x-python",
   "name": "python",
   "nbconvert_exporter": "python",
   "pygments_lexer": "ipython3",
   "version": "3.11.3"
  }
 },
 "nbformat": 4,
 "nbformat_minor": 2
}
