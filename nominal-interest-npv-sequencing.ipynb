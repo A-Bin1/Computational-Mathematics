{
 "cells": [
  {
   "cell_type": "markdown",
   "metadata": {},
   "source": [
    "NPV and Nominal Interest Sequencing"
   ]
  },
  {
   "cell_type": "code",
   "execution_count": 1,
   "metadata": {},
   "outputs": [],
   "source": [
    "#Consider the following sequences of year-end returns:\n",
    "returns1 = [20,15,10,10,5]\n",
    "returns2 = [20,15,15,5,5]\n"
   ]
  },
  {
   "cell_type": "code",
   "execution_count": 2,
   "metadata": {},
   "outputs": [],
   "source": [
    "#calculate NPV:\n",
    "def NPV(amt, rate, years):\n",
    "    denom_lst = []\n",
    "    for i in range(years):\n",
    "        denom = pow((1+rate),i+1)\n",
    "        denom_lst.append(denom)\n",
    "    total_lst = [float(a) / float(d) for a,d in zip(amt, denom_lst)]\n",
    "    return round(sum(total_lst),2)"
   ]
  },
  {
   "cell_type": "code",
   "execution_count": 3,
   "metadata": {},
   "outputs": [
    {
     "name": "stdout",
     "output_type": "stream",
     "text": [
      "seq2 54.82\n"
     ]
    }
   ],
   "source": [
    "#Which sequence is preferable if the interest rate, compounded annually, is 4%?\n",
    "r = .04\n",
    "seq1 = NPV(returns1,r,len(returns1))\n",
    "seq2 = NPV(returns2,r,len(returns2))\n",
    "\n",
    "var = {seq1:\"seq1\",seq2:\"seq2\"}\n",
    "\n",
    "print(var.get(max(var)), max(seq1,seq2))"
   ]
  },
  {
   "cell_type": "markdown",
   "metadata": {},
   "source": [
    "Generate Interest Rates for a Sequence of Returns (future use for simulations)"
   ]
  },
  {
   "cell_type": "code",
   "execution_count": 4,
   "metadata": {},
   "outputs": [],
   "source": [
    "import numpy as np\n",
    "import pandas as pd"
   ]
  },
  {
   "cell_type": "code",
   "execution_count": 5,
   "metadata": {},
   "outputs": [
    {
     "name": "stdout",
     "output_type": "stream",
     "text": [
      "[43.66, 47.85, 41.11, 27.2, 33.37, 23.69, 38.51, 28.16, 49.06, 23.35]\n"
     ]
    }
   ],
   "source": [
    "sequence_lst = [round(np.random.uniform(20,50),2) for i in range(10)]\n",
    "print(sequence_lst)"
   ]
  },
  {
   "cell_type": "code",
   "execution_count": 6,
   "metadata": {},
   "outputs": [
    {
     "name": "stdout",
     "output_type": "stream",
     "text": [
      "[0.034050959527297295, 0.032001862255740504, 0.03289198481694666, 0.03436827420506381, 0.057343892946852076, 0.040116356174628574, 0.055432158395724435, 0.04318730462357433, 0.03674789864196558, 0.04958559884096653, 0.029579046648375917, 0.05700984323211746, 0.049301714733973045, 0.05772457681110887, 0.039883648946565625, 0.04555531430754785, 0.03624729156390141, 0.036268792286326144, 0.04457080159753289, 0.05580968013446436, 0.04018282357759802, 0.03309631498529958, 0.03630483612680946, 0.03328123671825009, 0.03904369909323815, 0.033122415470739734, 0.04373650708081289, 0.03824375727876263, 0.04858053933858287, 0.05411764709293013, 0.04605247546141914, 0.041134869726849585, 0.04642547931089348, 0.04727398878173455, 0.034347991314903834, 0.047850571557028675, 0.03654394745913822, 0.0467546135716367, 0.05314004310196014, 0.053372952497450346, 0.050187391533976465, 0.03278297577430762, 0.054196035516485726, 0.0522781497869543, 0.05474040292066683, 0.05733835279756838, 0.054715310834986736, 0.04915429041723784, 0.043122977392088466, 0.04861914173824848]\n"
     ]
    }
   ],
   "source": [
    "rate_lst = [np.random.uniform(0.029,0.059) for i in range(50)]\n",
    "print(rate_lst)"
   ]
  },
  {
   "cell_type": "code",
   "execution_count": 7,
   "metadata": {},
   "outputs": [],
   "source": [
    "npvlst = [NPV(sequence_lst,rt,len(sequence_lst)) for rt in rate_lst]"
   ]
  },
  {
   "cell_type": "code",
   "execution_count": 8,
   "metadata": {},
   "outputs": [],
   "source": [
    "df = pd.DataFrame({'Interest_Rate': rate_lst, 'NPV': npvlst})"
   ]
  },
  {
   "cell_type": "code",
   "execution_count": 9,
   "metadata": {},
   "outputs": [
    {
     "data": {
      "text/html": [
       "<div>\n",
       "<style scoped>\n",
       "    .dataframe tbody tr th:only-of-type {\n",
       "        vertical-align: middle;\n",
       "    }\n",
       "\n",
       "    .dataframe tbody tr th {\n",
       "        vertical-align: top;\n",
       "    }\n",
       "\n",
       "    .dataframe thead th {\n",
       "        text-align: right;\n",
       "    }\n",
       "</style>\n",
       "<table border=\"1\" class=\"dataframe\">\n",
       "  <thead>\n",
       "    <tr style=\"text-align: right;\">\n",
       "      <th></th>\n",
       "      <th>Interest_Rate</th>\n",
       "      <th>NPV</th>\n",
       "    </tr>\n",
       "  </thead>\n",
       "  <tbody>\n",
       "    <tr>\n",
       "      <th>10</th>\n",
       "      <td>0.029579</td>\n",
       "      <td>307.04</td>\n",
       "    </tr>\n",
       "    <tr>\n",
       "      <th>1</th>\n",
       "      <td>0.032002</td>\n",
       "      <td>303.50</td>\n",
       "    </tr>\n",
       "    <tr>\n",
       "      <th>41</th>\n",
       "      <td>0.032783</td>\n",
       "      <td>302.37</td>\n",
       "    </tr>\n",
       "    <tr>\n",
       "      <th>2</th>\n",
       "      <td>0.032892</td>\n",
       "      <td>302.22</td>\n",
       "    </tr>\n",
       "    <tr>\n",
       "      <th>21</th>\n",
       "      <td>0.033096</td>\n",
       "      <td>301.92</td>\n",
       "    </tr>\n",
       "    <tr>\n",
       "      <th>25</th>\n",
       "      <td>0.033122</td>\n",
       "      <td>301.88</td>\n",
       "    </tr>\n",
       "    <tr>\n",
       "      <th>23</th>\n",
       "      <td>0.033281</td>\n",
       "      <td>301.66</td>\n",
       "    </tr>\n",
       "    <tr>\n",
       "      <th>0</th>\n",
       "      <td>0.034051</td>\n",
       "      <td>300.56</td>\n",
       "    </tr>\n",
       "    <tr>\n",
       "      <th>34</th>\n",
       "      <td>0.034348</td>\n",
       "      <td>300.13</td>\n",
       "    </tr>\n",
       "    <tr>\n",
       "      <th>3</th>\n",
       "      <td>0.034368</td>\n",
       "      <td>300.10</td>\n",
       "    </tr>\n",
       "    <tr>\n",
       "      <th>16</th>\n",
       "      <td>0.036247</td>\n",
       "      <td>297.45</td>\n",
       "    </tr>\n",
       "    <tr>\n",
       "      <th>17</th>\n",
       "      <td>0.036269</td>\n",
       "      <td>297.42</td>\n",
       "    </tr>\n",
       "    <tr>\n",
       "      <th>22</th>\n",
       "      <td>0.036305</td>\n",
       "      <td>297.37</td>\n",
       "    </tr>\n",
       "    <tr>\n",
       "      <th>36</th>\n",
       "      <td>0.036544</td>\n",
       "      <td>297.03</td>\n",
       "    </tr>\n",
       "    <tr>\n",
       "      <th>8</th>\n",
       "      <td>0.036748</td>\n",
       "      <td>296.75</td>\n",
       "    </tr>\n",
       "    <tr>\n",
       "      <th>27</th>\n",
       "      <td>0.038244</td>\n",
       "      <td>294.67</td>\n",
       "    </tr>\n",
       "    <tr>\n",
       "      <th>24</th>\n",
       "      <td>0.039044</td>\n",
       "      <td>293.56</td>\n",
       "    </tr>\n",
       "    <tr>\n",
       "      <th>14</th>\n",
       "      <td>0.039884</td>\n",
       "      <td>292.41</td>\n",
       "    </tr>\n",
       "    <tr>\n",
       "      <th>5</th>\n",
       "      <td>0.040116</td>\n",
       "      <td>292.09</td>\n",
       "    </tr>\n",
       "    <tr>\n",
       "      <th>20</th>\n",
       "      <td>0.040183</td>\n",
       "      <td>292.00</td>\n",
       "    </tr>\n",
       "    <tr>\n",
       "      <th>31</th>\n",
       "      <td>0.041135</td>\n",
       "      <td>290.71</td>\n",
       "    </tr>\n",
       "    <tr>\n",
       "      <th>48</th>\n",
       "      <td>0.043123</td>\n",
       "      <td>288.04</td>\n",
       "    </tr>\n",
       "    <tr>\n",
       "      <th>7</th>\n",
       "      <td>0.043187</td>\n",
       "      <td>287.95</td>\n",
       "    </tr>\n",
       "    <tr>\n",
       "      <th>26</th>\n",
       "      <td>0.043737</td>\n",
       "      <td>287.22</td>\n",
       "    </tr>\n",
       "    <tr>\n",
       "      <th>18</th>\n",
       "      <td>0.044571</td>\n",
       "      <td>286.11</td>\n",
       "    </tr>\n",
       "    <tr>\n",
       "      <th>15</th>\n",
       "      <td>0.045555</td>\n",
       "      <td>284.82</td>\n",
       "    </tr>\n",
       "    <tr>\n",
       "      <th>30</th>\n",
       "      <td>0.046052</td>\n",
       "      <td>284.17</td>\n",
       "    </tr>\n",
       "    <tr>\n",
       "      <th>32</th>\n",
       "      <td>0.046425</td>\n",
       "      <td>283.68</td>\n",
       "    </tr>\n",
       "    <tr>\n",
       "      <th>37</th>\n",
       "      <td>0.046755</td>\n",
       "      <td>283.25</td>\n",
       "    </tr>\n",
       "    <tr>\n",
       "      <th>33</th>\n",
       "      <td>0.047274</td>\n",
       "      <td>282.58</td>\n",
       "    </tr>\n",
       "    <tr>\n",
       "      <th>35</th>\n",
       "      <td>0.047851</td>\n",
       "      <td>281.83</td>\n",
       "    </tr>\n",
       "    <tr>\n",
       "      <th>28</th>\n",
       "      <td>0.048581</td>\n",
       "      <td>280.90</td>\n",
       "    </tr>\n",
       "    <tr>\n",
       "      <th>49</th>\n",
       "      <td>0.048619</td>\n",
       "      <td>280.85</td>\n",
       "    </tr>\n",
       "    <tr>\n",
       "      <th>47</th>\n",
       "      <td>0.049154</td>\n",
       "      <td>280.16</td>\n",
       "    </tr>\n",
       "    <tr>\n",
       "      <th>12</th>\n",
       "      <td>0.049302</td>\n",
       "      <td>279.97</td>\n",
       "    </tr>\n",
       "    <tr>\n",
       "      <th>9</th>\n",
       "      <td>0.049586</td>\n",
       "      <td>279.61</td>\n",
       "    </tr>\n",
       "    <tr>\n",
       "      <th>40</th>\n",
       "      <td>0.050187</td>\n",
       "      <td>278.85</td>\n",
       "    </tr>\n",
       "    <tr>\n",
       "      <th>43</th>\n",
       "      <td>0.052278</td>\n",
       "      <td>276.21</td>\n",
       "    </tr>\n",
       "    <tr>\n",
       "      <th>38</th>\n",
       "      <td>0.053140</td>\n",
       "      <td>275.14</td>\n",
       "    </tr>\n",
       "    <tr>\n",
       "      <th>39</th>\n",
       "      <td>0.053373</td>\n",
       "      <td>274.85</td>\n",
       "    </tr>\n",
       "    <tr>\n",
       "      <th>29</th>\n",
       "      <td>0.054118</td>\n",
       "      <td>273.93</td>\n",
       "    </tr>\n",
       "    <tr>\n",
       "      <th>42</th>\n",
       "      <td>0.054196</td>\n",
       "      <td>273.84</td>\n",
       "    </tr>\n",
       "    <tr>\n",
       "      <th>46</th>\n",
       "      <td>0.054715</td>\n",
       "      <td>273.20</td>\n",
       "    </tr>\n",
       "    <tr>\n",
       "      <th>44</th>\n",
       "      <td>0.054740</td>\n",
       "      <td>273.17</td>\n",
       "    </tr>\n",
       "    <tr>\n",
       "      <th>6</th>\n",
       "      <td>0.055432</td>\n",
       "      <td>272.32</td>\n",
       "    </tr>\n",
       "    <tr>\n",
       "      <th>19</th>\n",
       "      <td>0.055810</td>\n",
       "      <td>271.86</td>\n",
       "    </tr>\n",
       "    <tr>\n",
       "      <th>11</th>\n",
       "      <td>0.057010</td>\n",
       "      <td>270.40</td>\n",
       "    </tr>\n",
       "    <tr>\n",
       "      <th>45</th>\n",
       "      <td>0.057338</td>\n",
       "      <td>270.01</td>\n",
       "    </tr>\n",
       "    <tr>\n",
       "      <th>4</th>\n",
       "      <td>0.057344</td>\n",
       "      <td>270.00</td>\n",
       "    </tr>\n",
       "    <tr>\n",
       "      <th>13</th>\n",
       "      <td>0.057725</td>\n",
       "      <td>269.54</td>\n",
       "    </tr>\n",
       "  </tbody>\n",
       "</table>\n",
       "</div>"
      ],
      "text/plain": [
       "    Interest_Rate     NPV\n",
       "10       0.029579  307.04\n",
       "1        0.032002  303.50\n",
       "41       0.032783  302.37\n",
       "2        0.032892  302.22\n",
       "21       0.033096  301.92\n",
       "25       0.033122  301.88\n",
       "23       0.033281  301.66\n",
       "0        0.034051  300.56\n",
       "34       0.034348  300.13\n",
       "3        0.034368  300.10\n",
       "16       0.036247  297.45\n",
       "17       0.036269  297.42\n",
       "22       0.036305  297.37\n",
       "36       0.036544  297.03\n",
       "8        0.036748  296.75\n",
       "27       0.038244  294.67\n",
       "24       0.039044  293.56\n",
       "14       0.039884  292.41\n",
       "5        0.040116  292.09\n",
       "20       0.040183  292.00\n",
       "31       0.041135  290.71\n",
       "48       0.043123  288.04\n",
       "7        0.043187  287.95\n",
       "26       0.043737  287.22\n",
       "18       0.044571  286.11\n",
       "15       0.045555  284.82\n",
       "30       0.046052  284.17\n",
       "32       0.046425  283.68\n",
       "37       0.046755  283.25\n",
       "33       0.047274  282.58\n",
       "35       0.047851  281.83\n",
       "28       0.048581  280.90\n",
       "49       0.048619  280.85\n",
       "47       0.049154  280.16\n",
       "12       0.049302  279.97\n",
       "9        0.049586  279.61\n",
       "40       0.050187  278.85\n",
       "43       0.052278  276.21\n",
       "38       0.053140  275.14\n",
       "39       0.053373  274.85\n",
       "29       0.054118  273.93\n",
       "42       0.054196  273.84\n",
       "46       0.054715  273.20\n",
       "44       0.054740  273.17\n",
       "6        0.055432  272.32\n",
       "19       0.055810  271.86\n",
       "11       0.057010  270.40\n",
       "45       0.057338  270.01\n",
       "4        0.057344  270.00\n",
       "13       0.057725  269.54"
      ]
     },
     "execution_count": 9,
     "metadata": {},
     "output_type": "execute_result"
    }
   ],
   "source": [
    "df.sort_values(by = 'Interest_Rate')"
   ]
  },
  {
   "cell_type": "markdown",
   "metadata": {},
   "source": [
    "Checking for Duplicates"
   ]
  },
  {
   "cell_type": "code",
   "execution_count": 10,
   "metadata": {},
   "outputs": [],
   "source": [
    "duplicate = df[df.duplicated()]"
   ]
  },
  {
   "cell_type": "code",
   "execution_count": 11,
   "metadata": {},
   "outputs": [
    {
     "data": {
      "text/html": [
       "<div>\n",
       "<style scoped>\n",
       "    .dataframe tbody tr th:only-of-type {\n",
       "        vertical-align: middle;\n",
       "    }\n",
       "\n",
       "    .dataframe tbody tr th {\n",
       "        vertical-align: top;\n",
       "    }\n",
       "\n",
       "    .dataframe thead th {\n",
       "        text-align: right;\n",
       "    }\n",
       "</style>\n",
       "<table border=\"1\" class=\"dataframe\">\n",
       "  <thead>\n",
       "    <tr style=\"text-align: right;\">\n",
       "      <th></th>\n",
       "      <th>Interest_Rate</th>\n",
       "      <th>NPV</th>\n",
       "    </tr>\n",
       "  </thead>\n",
       "  <tbody>\n",
       "  </tbody>\n",
       "</table>\n",
       "</div>"
      ],
      "text/plain": [
       "Empty DataFrame\n",
       "Columns: [Interest_Rate, NPV]\n",
       "Index: []"
      ]
     },
     "execution_count": 11,
     "metadata": {},
     "output_type": "execute_result"
    }
   ],
   "source": [
    "duplicate"
   ]
  },
  {
   "cell_type": "markdown",
   "metadata": {},
   "source": [
    "Compare the Distributions"
   ]
  },
  {
   "cell_type": "code",
   "execution_count": 12,
   "metadata": {},
   "outputs": [],
   "source": [
    "import matplotlib.pyplot as plt\n",
    "import numpy as np\n",
    "import pandas as pd\n",
    "import seaborn as sns\n",
    "import sklearn.metrics as skm"
   ]
  },
  {
   "cell_type": "code",
   "execution_count": 13,
   "metadata": {},
   "outputs": [
    {
     "data": {
      "text/html": [
       "<div>\n",
       "<style scoped>\n",
       "    .dataframe tbody tr th:only-of-type {\n",
       "        vertical-align: middle;\n",
       "    }\n",
       "\n",
       "    .dataframe tbody tr th {\n",
       "        vertical-align: top;\n",
       "    }\n",
       "\n",
       "    .dataframe thead th {\n",
       "        text-align: right;\n",
       "    }\n",
       "</style>\n",
       "<table border=\"1\" class=\"dataframe\">\n",
       "  <thead>\n",
       "    <tr style=\"text-align: right;\">\n",
       "      <th></th>\n",
       "      <th>Interest_Rate</th>\n",
       "      <th>NPV</th>\n",
       "    </tr>\n",
       "  </thead>\n",
       "  <tbody>\n",
       "    <tr>\n",
       "      <th>count</th>\n",
       "      <td>50.000000</td>\n",
       "      <td>50.000000</td>\n",
       "    </tr>\n",
       "    <tr>\n",
       "      <th>mean</th>\n",
       "      <td>0.044348</td>\n",
       "      <td>286.746000</td>\n",
       "    </tr>\n",
       "    <tr>\n",
       "      <th>std</th>\n",
       "      <td>0.008459</td>\n",
       "      <td>11.207267</td>\n",
       "    </tr>\n",
       "    <tr>\n",
       "      <th>min</th>\n",
       "      <td>0.029579</td>\n",
       "      <td>269.540000</td>\n",
       "    </tr>\n",
       "    <tr>\n",
       "      <th>25%</th>\n",
       "      <td>0.036365</td>\n",
       "      <td>276.870000</td>\n",
       "    </tr>\n",
       "    <tr>\n",
       "      <th>50%</th>\n",
       "      <td>0.045063</td>\n",
       "      <td>285.465000</td>\n",
       "    </tr>\n",
       "    <tr>\n",
       "      <th>75%</th>\n",
       "      <td>0.051755</td>\n",
       "      <td>297.285000</td>\n",
       "    </tr>\n",
       "    <tr>\n",
       "      <th>max</th>\n",
       "      <td>0.057725</td>\n",
       "      <td>307.040000</td>\n",
       "    </tr>\n",
       "  </tbody>\n",
       "</table>\n",
       "</div>"
      ],
      "text/plain": [
       "       Interest_Rate         NPV\n",
       "count      50.000000   50.000000\n",
       "mean        0.044348  286.746000\n",
       "std         0.008459   11.207267\n",
       "min         0.029579  269.540000\n",
       "25%         0.036365  276.870000\n",
       "50%         0.045063  285.465000\n",
       "75%         0.051755  297.285000\n",
       "max         0.057725  307.040000"
      ]
     },
     "execution_count": 13,
     "metadata": {},
     "output_type": "execute_result"
    }
   ],
   "source": [
    "df.describe()"
   ]
  },
  {
   "cell_type": "markdown",
   "metadata": {},
   "source": [
    "Histograms vs Kernel Density Estimators: https://towardsdatascience.com/histograms-vs-kdes-explained-ed62e7753f12"
   ]
  },
  {
   "cell_type": "code",
   "execution_count": 14,
   "metadata": {},
   "outputs": [
    {
     "data": {
      "text/plain": [
       "array([[<Axes: title={'center': 'Interest_Rate'}>,\n",
       "        <Axes: title={'center': 'NPV'}>]], dtype=object)"
      ]
     },
     "execution_count": 14,
     "metadata": {},
     "output_type": "execute_result"
    },
    {
     "data": {
      "image/png": "[encoded data removed]",
      "text/plain": [
       "<Figure size 640x480 with 2 Axes>"
      ]
     },
     "metadata": {},
     "output_type": "display_data"
    }
   ],
   "source": [
    "df.hist()"
   ]
  },
  {
   "cell_type": "code",
   "execution_count": 17,
   "metadata": {},
   "outputs": [
    {
     "data": {
      "image/png": "[encoded data removed]",
      "text/plain": [
       "<Figure size 1200x800 with 1 Axes>"
      ]
     },
     "metadata": {},
     "output_type": "display_data"
    }
   ],
   "source": [
    "fig, ax = plt.subplots(1, 1, figsize=(12, 8))\n",
    "sns.kdeplot(data=df, x='Interest_Rate', fill=True, ax=ax)\n",
    "ax.set_title(\"Kernel Density Interest Rates\")\n",
    "ax.set_ylim(0.0, 50)\n",
    "ax.set_xlabel('Interest Rate Values')\n",
    "plt.show()"
   ]
  },
  {
   "cell_type": "code",
   "execution_count": 18,
   "metadata": {},
   "outputs": [
    {
     "data": {
      "image/png": "[encoded data removed]",
      "text/plain": [
       "<Figure size 1200x800 with 1 Axes>"
      ]
     },
     "metadata": {},
     "output_type": "display_data"
    }
   ],
   "source": [
    "fig, ax = plt.subplots(1, 1, figsize=(12, 8))\n",
    "sns.kdeplot(data=df, x='NPV', fill=True, ax=ax)\n",
    "ax.set_title(\"Kernel Density NPV Values\")\n",
    "ax.set_ylim(0.0, 0.05)\n",
    "ax.set_xlabel('NPV Values')\n",
    "plt.show()"
   ]
  }
 ],
 "metadata": {
  "kernelspec": {
   "display_name": "Python 3",
   "language": "python",
   "name": "python3"
  },
  "language_info": {
   "codemirror_mode": {
    "name": "ipython",
    "version": 3
   },
   "file_extension": ".py",
   "mimetype": "text/x-python",
   "name": "python",
   "nbconvert_exporter": "python",
   "pygments_lexer": "ipython3",
   "version": "3.11.3"
  }
 },
 "nbformat": 4,
 "nbformat_minor": 2
}
