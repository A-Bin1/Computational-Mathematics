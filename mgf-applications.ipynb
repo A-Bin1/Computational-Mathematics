{
 "cells": [
  {
   "cell_type": "markdown",
   "metadata": {},
   "source": [
    "Probability Applications of MGF (Cont'd)"
   ]
  },
  {
   "cell_type": "markdown",
   "metadata": {},
   "source": [
    "Suppose 10% of a brand of baby oil will go bad before their shelf life. Sean has 1000 bottles in storage and let Y be the number of bottles that need to be replaced.\n",
    "\n",
    "Within what limits would Y be expected to fall with probability of at least 0.75?\n",
    "$$\n",
    "P(? \\leq y \\leq ?) \\geq C\n",
    "$$\n",
    "$$\n",
    "y \\sim Binom(1000,0.1)\n",
    "$$\n",
    "$$\n",
    "\\mu = E(Y) = 0.1*1000 = 100\n",
    "$$\n",
    "$$\n",
    "\\sigma^2 = Var(Y) = (0.1)(1000)(1-0.1) = 90\n",
    "$$\n",
    "\n",
    "$$\n",
    "P(|1-\\mu| \\leq C) \\geq 0.75 = P(|1-\\mu| \\leq C) \\geq 1 - \\frac{\\sigma^2}{C^2} \n",
    "$$\n",
    "$$\n",
    "1 - \\frac{90}{C^2} = 0.75\n",
    "$$\n",
    "$$\n",
    "\\frac{90}{C^2} = 0.25\n",
    "$$\n",
    "$$\n",
    "C^2 = \\frac{90}{0.25}\n",
    "$$\n",
    "$$\n",
    "C \\approx 19\n",
    "$$\n",
    "$$\n",
    "P(100-19 \\leq y \\leq 100+19) \\geq C = P(81 \\leq y \\leq 119) \\geq 0.75\n",
    "$$ "
   ]
  },
  {
   "cell_type": "markdown",
   "metadata": {},
   "source": [
    "In Code Form - Building the Mathematical Model"
   ]
  },
  {
   "cell_type": "code",
   "execution_count": 2,
   "metadata": {},
   "outputs": [
    {
     "data": {
      "text/latex": [
       "$P({81} \\leq y \\leq {119}) \\geq {0.75}$"
      ],
      "text/plain": [
       "<IPython.core.display.Latex object>"
      ]
     },
     "metadata": {},
     "output_type": "display_data"
    }
   ],
   "source": [
    "#variables needed:   \n",
    "# ---assumption of one type of distribution for this example (binomial, for discrete random variables)\n",
    "# --- accounting for finding the limits only where p_range is at least x\n",
    "import math as m\n",
    "from IPython.display import display, Latex\n",
    "\n",
    "p = 0.1\n",
    "sample = 1000\n",
    "p_range = 0.75 #probability range\n",
    "\n",
    "\n",
    "def binom_model_prb_limits(p,sample,p_range):\n",
    "    mu = p*sample\n",
    "    sigsq = mu*(1-p)\n",
    "    csq_denom = 1-p_range\n",
    "    c = m.sqrt(sigsq/csq_denom)\n",
    "    lower = mu - c\n",
    "    upper = mu + c\n",
    "    text = r\"P({{{0}}} \\leq y \\leq {{{1}}}) \\geq {{{2}}}\".format(round(lower), round(upper), p_range)\n",
    "    return(display(Latex(f'${text}$')))\n",
    "\n",
    "\n",
    "binom_model_prb_limits(p,sample, p_range)\n"
   ]
  },
  {
   "cell_type": "markdown",
   "metadata": {},
   "source": [
    "Suppose 5% of a brand of milk chocolate bars will go bad before their shelf life. Suppose that Bob orders 1000 pieces to entertain a full house of guests and let Y be the number of chocolate bars that need to be replaced.\n",
    "\n",
    "Within what limits would Y be expected to fall with probability of at least 0.75?"
   ]
  },
  {
   "cell_type": "code",
   "execution_count": 42,
   "metadata": {},
   "outputs": [
    {
     "data": {
      "text/latex": [
       "$P({36} \\leq y \\leq {64}) \\geq {0.75}$"
      ],
      "text/plain": [
       "<IPython.core.display.Latex object>"
      ]
     },
     "metadata": {},
     "output_type": "display_data"
    }
   ],
   "source": [
    "binom_model_prb_limits(0.05,1000, 0.75)"
   ]
  },
  {
   "cell_type": "markdown",
   "metadata": {},
   "source": [
    "Suppose 1% of jigsaw puzzle pieces will be warped before their shelf life (assuming these puzzles were all stored at varying places to obtain a shelf life). Suppose your roommate has a collection containing 1000 pieces total and let Y be the number of pieces that need to be replaced.\n",
    "\n",
    "Within what limits would Y be expected to fall with probability of at least 0.50?"
   ]
  },
  {
   "cell_type": "code",
   "execution_count": 44,
   "metadata": {},
   "outputs": [
    {
     "data": {
      "text/latex": [
       "$P({6} \\leq y \\leq {14}) \\geq {0.5}$"
      ],
      "text/plain": [
       "<IPython.core.display.Latex object>"
      ]
     },
     "metadata": {},
     "output_type": "display_data"
    }
   ],
   "source": [
    "binom_model_prb_limits(0.01,1000, 0.50)"
   ]
  },
  {
   "cell_type": "markdown",
   "metadata": {},
   "source": [
    "Suppose 1% of a brand of sticky-notes will go bad before their shelf life. Jeanine previously ordered 1000 sticky-notes for the office and let Y be the number of sticky-notes that need to be replaced.\n",
    "\n",
    "Within what limits would Y be expected to fall with probability of at least 0.75?"
   ]
  },
  {
   "cell_type": "code",
   "execution_count": 46,
   "metadata": {},
   "outputs": [
    {
     "data": {
      "text/latex": [
       "$P({4} \\leq y \\leq {16}) \\geq {0.75}$"
      ],
      "text/plain": [
       "<IPython.core.display.Latex object>"
      ]
     },
     "metadata": {},
     "output_type": "display_data"
    }
   ],
   "source": [
    "binom_model_prb_limits(0.01,1000, 0.75)"
   ]
  },
  {
   "cell_type": "markdown",
   "metadata": {},
   "source": [
    "Suppose 13.7% of a brand of a nightshade nail polish will go bad before their shelf life. Vivian previously ordered 500 bottles for her business and let Y be the number of bottles that need to be replaced.\n",
    "\n",
    "Within what limits would Y be expected to fall with probability of at least 0.575?"
   ]
  },
  {
   "cell_type": "code",
   "execution_count": 48,
   "metadata": {},
   "outputs": [
    {
     "data": {
      "text/latex": [
       "$P({171} \\leq y \\leq {204}) \\geq {0.575}$"
      ],
      "text/plain": [
       "<IPython.core.display.Latex object>"
      ]
     },
     "metadata": {},
     "output_type": "display_data"
    }
   ],
   "source": [
    "binom_model_prb_limits(0.375,500, 0.575)"
   ]
  },
  {
   "cell_type": "markdown",
   "metadata": {},
   "source": [
    "Suppose 90% of job seekers would accept what is categorized as a transitional lateral move before waiting on the average timeframe of what is categorized as a promotion. Let there be 5000 applicants and let Y be the number of those who took the transitional job.\n",
    "\n",
    "Within what limits would Y be expected to fall with probability of at least 0.98?"
   ]
  },
  {
   "cell_type": "code",
   "execution_count": null,
   "metadata": {},
   "outputs": [
    {
     "data": {
      "text/latex": [
       "$P({4350} \\leq y \\leq {4650}) \\geq {0.98}$"
      ],
      "text/plain": [
       "<IPython.core.display.Latex object>"
      ]
     },
     "metadata": {},
     "output_type": "display_data"
    }
   ],
   "source": [
    "binom_model_prb_limits(0.90,5000, 0.98)"
   ]
  },
  {
   "cell_type": "markdown",
   "metadata": {},
   "source": [
    "Suppose 99% of job seekers are rejected before the full duration of the job posting. Let there be 5000 applicants and let Y be the number of those who took the transitional job.\n",
    "\n",
    "Within what limits would Y be expected to fall with probability of at least 0.98?"
   ]
  },
  {
   "cell_type": "code",
   "execution_count": 9,
   "metadata": {},
   "outputs": [
    {
     "data": {
      "text/latex": [
       "$P({4900} \\leq y \\leq {5000}) \\geq {0.98}$"
      ],
      "text/plain": [
       "<IPython.core.display.Latex object>"
      ]
     },
     "metadata": {},
     "output_type": "display_data"
    }
   ],
   "source": [
    "binom_model_prb_limits(0.99,5000, 0.98)"
   ]
  },
  {
   "cell_type": "markdown",
   "metadata": {},
   "source": [
    "Suppose 5% of proctored, computer-based testers are caught cheating on a particular exam before the end of the allotted time. Let there be 1000 testers and let Y be the number of cheaters that need to be reported.\n",
    "\n",
    "Within what limits would Y be expected to fall with probability of at least 0.10?"
   ]
  },
  {
   "cell_type": "code",
   "execution_count": 3,
   "metadata": {},
   "outputs": [
    {
     "data": {
      "text/latex": [
       "$P({43} \\leq y \\leq {57}) \\geq {0.1}$"
      ],
      "text/plain": [
       "<IPython.core.display.Latex object>"
      ]
     },
     "metadata": {},
     "output_type": "display_data"
    }
   ],
   "source": [
    "binom_model_prb_limits(0.05,1000, 0.1)"
   ]
  },
  {
   "cell_type": "markdown",
   "metadata": {},
   "source": [
    "Suppose 15% of customers of a specific life insurance policy will cash out due to accepted circumstances before the original calculated timeframe. Let there be 1000 customers and let Y be the number of those who cashed out early.\n",
    "\n",
    "Within what limits would Y be expected to fall with probability of at least 0.50?"
   ]
  },
  {
   "cell_type": "code",
   "execution_count": 4,
   "metadata": {},
   "outputs": [
    {
     "data": {
      "text/latex": [
       "$P({134} \\leq y \\leq {166}) \\geq {0.5}$"
      ],
      "text/plain": [
       "<IPython.core.display.Latex object>"
      ]
     },
     "metadata": {},
     "output_type": "display_data"
    }
   ],
   "source": [
    "binom_model_prb_limits(0.15,1000, 0.5)"
   ]
  },
  {
   "cell_type": "markdown",
   "metadata": {},
   "source": [
    "Suppose 99% of job seekers during a recession would accept what is categorized as a transitional lateral move before waiting on the average timeframe of what is categorized as a promotion. Let there be 5000 applicants and let Y be the number of those who took the transitional job.\n",
    "\n",
    "Within what limits would Y be expected to fall with probability of at least 0.98?"
   ]
  },
  {
   "cell_type": "code",
   "execution_count": 6,
   "metadata": {},
   "outputs": [
    {
     "data": {
      "text/latex": [
       "$P({4900} \\leq y \\leq {5000}) \\geq {0.98}$"
      ],
      "text/plain": [
       "<IPython.core.display.Latex object>"
      ]
     },
     "metadata": {},
     "output_type": "display_data"
    }
   ],
   "source": [
    "binom_model_prb_limits(0.99,5000, 0.98)"
   ]
  },
  {
   "cell_type": "markdown",
   "metadata": {},
   "source": [
    "Suppose 94% of job seekers with a referral are rejected before the full duration of the job posting. Let there be 5000 applicants and let Y be the number of those who took the transitional job.\n",
    "\n",
    "Within what limits would Y be expected to fall with probability of at least 0.98?"
   ]
  },
  {
   "cell_type": "code",
   "execution_count": 7,
   "metadata": {},
   "outputs": [
    {
     "data": {
      "text/latex": [
       "$P({4581} \\leq y \\leq {4819}) \\geq {0.98}$"
      ],
      "text/plain": [
       "<IPython.core.display.Latex object>"
      ]
     },
     "metadata": {},
     "output_type": "display_data"
    }
   ],
   "source": [
    "binom_model_prb_limits(0.94,5000, 0.98)"
   ]
  }
 ],
 "metadata": {
  "kernelspec": {
   "display_name": "Python 3",
   "language": "python",
   "name": "python3"
  },
  "language_info": {
   "codemirror_mode": {
    "name": "ipython",
    "version": 3
   },
   "file_extension": ".py",
   "mimetype": "text/x-python",
   "name": "python",
   "nbconvert_exporter": "python",
   "pygments_lexer": "ipython3",
   "version": "3.11.3"
  }
 },
 "nbformat": 4,
 "nbformat_minor": 2
}
