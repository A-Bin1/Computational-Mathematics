{
 "cells": [
  {
   "cell_type": "markdown",
   "metadata": {},
   "source": [
    "Probability Applications of MGF (Cont'd)"
   ]
  },
  {
   "cell_type": "markdown",
   "metadata": {},
   "source": [
    "Suppose 10% of a brand of baby oil will go bad before their shelf life. Sean has 1000 bottles in storage and let Y be the number of bottles that need to be replaced.\n",
    "\n",
    "Within what limits would Y be expected to fall with probability of at least 0.75?\n",
    "$$\n",
    "P(? \\leq y \\leq ?) \\geq C\n",
    "$$\n",
    "$$\n",
    "y \\sim Binom(1000,0.1)\n",
    "$$\n",
    "$$\n",
    "\\mu = E(Y) = 0.1*1000 = 100\n",
    "$$\n",
    "$$\n",
    "\\sigma^2 = Var(Y) = (0.1)(1000)(1-0.1) = 90\n",
    "$$\n",
    "\n",
    "$$\n",
    "P(|1-\\mu| \\leq C) \\geq 0.75 = P(|1-\\mu| \\leq C) \\geq 1 - \\frac{\\sigma^2}{C^2} \n",
    "$$\n",
    "$$\n",
    "1 - \\frac{90}{C^2} = 0.75\n",
    "$$\n",
    "$$\n",
    "\\frac{90}{C^2} = 0.25\n",
    "$$\n",
    "$$\n",
    "C^2 = \\frac{90}{0.25}\n",
    "$$\n",
    "$$\n",
    "C \\approx 19\n",
    "$$\n",
    "$$\n",
    "P(100-19 \\leq y \\leq 100+19) \\geq C = P(81 \\leq y \\leq 119) \\geq 0.75\n",
    "$$ "
   ]
  },
  {
   "cell_type": "markdown",
   "metadata": {},
   "source": [
    "In Code Form - Building the Mathematical Model"
   ]
  },
  {
   "cell_type": "code",
   "execution_count": 2,
   "metadata": {},
   "outputs": [
    {
     "data": {
      "text/latex": [
       "$P({81} \\leq y \\leq {119}) \\geq {0.75}$"
      ],
      "text/plain": [
       "<IPython.core.display.Latex object>"
      ]
     },
     "metadata": {},
     "output_type": "display_data"
    }
   ],
   "source": [
    "#variables needed:   \n",
    "# ---assumption of one type of distribution for this example (binomial, for discrete random variables)\n",
    "# --- accounting for finding the limits only where p_range is at least x\n",
    "import math as m\n",
    "from IPython.display import display, Latex\n",
    "\n",
    "p = 0.1\n",
    "sample = 1000\n",
    "p_range = 0.75 #probability range\n",
    "\n",
    "\n",
    "def binom_model_prb_limits(p,sample,p_range):\n",
    "    mu = p*sample\n",
    "    sigsq = mu*(1-p)\n",
    "    csq_denom = 1-p_range\n",
    "    c = m.sqrt(sigsq/csq_denom)\n",
    "    lower = mu - c\n",
    "    upper = mu + c\n",
    "    text = r\"P({{{0}}} \\leq y \\leq {{{1}}}) \\geq {{{2}}}\".format(round(lower), round(upper), p_range)\n",
    "    return(display(Latex(f'${text}$')))\n",
    "\n",
    "\n",
    "binom_model_prb_limits(p,sample, p_range)\n"
   ]
  },
  {
   "cell_type": "markdown",
   "metadata": {},
   "source": [
    "Suppose 5% of a brand of milk chocolate bars will go bad before their shelf life. Suppose that Bob orders 1000 pieces to entertain a full house of guests and let Y be the number of chocolate bars that need to be replaced.\n",
    "\n",
    "Within what limits would Y be expected to fall with probability of at least 0.75?"
   ]
  },
  {
   "cell_type": "code",
   "execution_count": 42,
   "metadata": {},
   "outputs": [
    {
     "data": {
      "text/latex": [
       "$P({36} \\leq y \\leq {64}) \\geq {0.75}$"
      ],
      "text/plain": [
       "<IPython.core.display.Latex object>"
      ]
     },
     "metadata": {},
     "output_type": "display_data"
    }
   ],
   "source": [
    "binom_model_prb_limits(0.05,1000, 0.75)"
   ]
  },
  {
   "cell_type": "markdown",
   "metadata": {},
   "source": [
    "Suppose 1% of jigsaw puzzle pieces will be warped before their shelf life (assuming these puzzles were all stored at varying places to obtain a shelf life). Suppose your roommate has a collection containing 1000 pieces total and let Y be the number of pieces that need to be replaced.\n",
    "\n",
    "Within what limits would Y be expected to fall with probability of at least 0.50?"
   ]
  },
  {
   "cell_type": "code",
   "execution_count": 44,
   "metadata": {},
   "outputs": [
    {
     "data": {
      "text/latex": [
       "$P({6} \\leq y \\leq {14}) \\geq {0.5}$"
      ],
      "text/plain": [
       "<IPython.core.display.Latex object>"
      ]
     },
     "metadata": {},
     "output_type": "display_data"
    }
   ],
   "source": [
    "binom_model_prb_limits(0.01,1000, 0.50)"
   ]
  },
  {
   "cell_type": "markdown",
   "metadata": {},
   "source": [
    "Suppose 1% of a brand of sticky-notes will go bad before their shelf life. Jeanine previously ordered 1000 sticky-notes for the office and let Y be the number of sticky-notes that need to be replaced.\n",
    "\n",
    "Within what limits would Y be expected to fall with probability of at least 0.75?"
   ]
  },
  {
   "cell_type": "code",
   "execution_count": 46,
   "metadata": {},
   "outputs": [
    {
     "data": {
      "text/latex": [
       "$P({4} \\leq y \\leq {16}) \\geq {0.75}$"
      ],
      "text/plain": [
       "<IPython.core.display.Latex object>"
      ]
     },
     "metadata": {},
     "output_type": "display_data"
    }
   ],
   "source": [
    "binom_model_prb_limits(0.01,1000, 0.75)"
   ]
  },
  {
   "cell_type": "markdown",
   "metadata": {},
   "source": [
    "Suppose 13.7% of a brand of a nightshade nail polish will go bad before their shelf life. Vivian previously ordered 500 bottles for her business and let Y be the number of bottles that need to be replaced.\n",
    "\n",
    "Within what limits would Y be expected to fall with probability of at least 0.575?"
   ]
  },
  {
   "cell_type": "code",
   "execution_count": 48,
   "metadata": {},
   "outputs": [
    {
     "data": {
      "text/latex": [
       "$P({171} \\leq y \\leq {204}) \\geq {0.575}$"
      ],
      "text/plain": [
       "<IPython.core.display.Latex object>"
      ]
     },
     "metadata": {},
     "output_type": "display_data"
    }
   ],
   "source": [
    "binom_model_prb_limits(0.375,500, 0.575)"
   ]
  },
  {
   "cell_type": "markdown",
   "metadata": {},
   "source": [
    "Suppose 50% of hotel rooms booked for other people are cancelled and scheduled on a different day. Let there be 1021 orders and let Y be the number of rooms that may be rescheduled.\n",
    "\n",
    "Within what limits would Y be expected to fall with probability of at least 0.21?"
   ]
  },
  {
   "cell_type": "code",
   "execution_count": 18,
   "metadata": {},
   "outputs": [
    {
     "data": {
      "text/latex": [
       "$P({492} \\leq y \\leq {528}) \\geq {0.21}$"
      ],
      "text/plain": [
       "<IPython.core.display.Latex object>"
      ]
     },
     "metadata": {},
     "output_type": "display_data"
    }
   ],
   "source": [
    "binom_model_prb_limits(0.50,1021, 0.21)"
   ]
  },
  {
   "cell_type": "markdown",
   "metadata": {},
   "source": [
    "Suppose 20% of private drivers on behalf of someone else arrive before their expected time. let the sample be 2857 and let Y be the number of drivers that need to be replaced.\n",
    "\n",
    "Within what limits would Y be expected to fall with probability of at least 0.21?"
   ]
  },
  {
   "cell_type": "code",
   "execution_count": 21,
   "metadata": {},
   "outputs": [
    {
     "data": {
      "text/latex": [
       "$P({81} \\leq y \\leq {100}) \\geq {0.21}$"
      ],
      "text/plain": [
       "<IPython.core.display.Latex object>"
      ]
     },
     "metadata": {},
     "output_type": "display_data"
    }
   ],
   "source": [
    "binom_model_prb_limits(0.2,454, 0.21)"
   ]
  },
  {
   "cell_type": "markdown",
   "metadata": {},
   "source": [
    "Suppose 10% of Miele dryers deteriorate before their expected shelf life. An order of 725 and let Y be the number of Miele dryers that need to be replaced.\n",
    "\n",
    "Within what limits would Y be expected to fall with probability of at least 0.21?"
   ]
  },
  {
   "cell_type": "code",
   "execution_count": 22,
   "metadata": {},
   "outputs": [
    {
     "data": {
      "text/latex": [
       "$P({63} \\leq y \\leq {82}) \\geq {0.21}$"
      ],
      "text/plain": [
       "<IPython.core.display.Latex object>"
      ]
     },
     "metadata": {},
     "output_type": "display_data"
    }
   ],
   "source": [
    "binom_model_prb_limits(0.1,725, 0.21)"
   ]
  },
  {
   "cell_type": "markdown",
   "metadata": {},
   "source": [
    "Suppose 10% of 3D printers deteriorate before their expected shelf life. Rogers orders 751 3D printers has been placed and let Y be the number of 3D printers that need to be replaced.\n",
    "\n",
    "Within what limits would Y be expected to fall with probability of at least 0.21?"
   ]
  },
  {
   "cell_type": "code",
   "execution_count": 20,
   "metadata": {},
   "outputs": [
    {
     "data": {
      "text/latex": [
       "$P({330} \\leq y \\leq {370}) \\geq {0.21}$"
      ],
      "text/plain": [
       "<IPython.core.display.Latex object>"
      ]
     },
     "metadata": {},
     "output_type": "display_data"
    }
   ],
   "source": [
    "binom_model_prb_limits(0.1,3500, 0.21)"
   ]
  }
 ],
 "metadata": {
  "kernelspec": {
   "display_name": "Python 3",
   "language": "python",
   "name": "python3"
  },
  "language_info": {
   "codemirror_mode": {
    "name": "ipython",
    "version": 3
   },
   "file_extension": ".py",
   "mimetype": "text/x-python",
   "name": "python",
   "nbconvert_exporter": "python",
   "pygments_lexer": "ipython3",
   "version": "3.11.3"
  }
 },
 "nbformat": 4,
 "nbformat_minor": 2
}
