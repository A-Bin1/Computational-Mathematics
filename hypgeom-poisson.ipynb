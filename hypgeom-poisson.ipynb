{
 "cells": [
  {
   "cell_type": "markdown",
   "metadata": {},
   "source": [
    "Hypergeometric and Poisson Distributions: Sample Problems"
   ]
  },
  {
   "cell_type": "markdown",
   "metadata": {},
   "source": [
    "Suppose the probability of needing to use a hand jam on a single route is approximately 0.04. If there are 300 routes, what is the approximate probability of using at least 3 hand jams?\n",
    "\n",
    "Probability = 0.04\n",
    "\n",
    "N = 300\n",
    "\n",
    "Average rate of hand jams = 300*0.04 = 12\n",
    "\n",
    "$$ X \\sim Poisson(12)$$\n",
    "\n",
    "$$ P(x\\geq 3) = 1 - P(X = 0) + P(X = 1) + P(X=2)$$\n",
    "$$\n",
    "= 1 - (\\frac{e^{-12}(12^0)}{0!} + \\frac{e^{-12}(12^1)}{1!} + \\frac{e^{-12}(12^2)}{2!})\n",
    "$$\n",
    "\n"
   ]
  },
  {
   "cell_type": "code",
   "execution_count": 3,
   "metadata": {},
   "outputs": [
    {
     "name": "stdout",
     "output_type": "stream",
     "text": [
      "0.9994777419499671\n"
     ]
    }
   ],
   "source": [
    "import math as m\n",
    "\n",
    "lam = m.e**(-12)  \n",
    "\n",
    "result = lam + lam*12 + (lam*144)/2\n",
    "print(1- result)"
   ]
  },
  {
   "cell_type": "markdown",
   "metadata": {},
   "source": [
    "---\n",
    "There are 10 white padlocks and 5 black, and 8 green in a container. If we randomly sample 5 without replacement, what is the probability all 5 are white?"
   ]
  },
  {
   "cell_type": "markdown",
   "metadata": {},
   "source": [
    "$$\n",
    "P(5 \\space White) = \\frac{{10\\choose 5}{13\\choose 0}}{23 \\choose 5} = \\frac{252(13)}{33,649} = 0.0974\n",
    "$$"
   ]
  },
  {
   "cell_type": "markdown",
   "metadata": {},
   "source": [
    "There are 18 white cookie cutters and 5 magenta ones in a container. If we randomly sample 4 without replacement, what is the probability that 3 are magenta? "
   ]
  },
  {
   "cell_type": "markdown",
   "metadata": {},
   "source": [
    "$$\n",
    "P(3 \\space Magenta) = \\frac{{5\\choose 3}{18\\choose 1}}{23 \\choose 4} = \\frac{10(18)}{8855} = 0.0203\n",
    "$$"
   ]
  },
  {
   "cell_type": "markdown",
   "metadata": {},
   "source": [
    "---\n",
    "A group of seven software packages available have been ranked from 1 to 7 (best to worst). A customer, unaware of the rankings, randomly selects and then purchases two of the packages. Let Y denote the number of packages purchased by the firm that are ranked 4, 5, or 6. Give the probability distribution for Y.\n",
    "\n",
    "The distribution is $$ X \\sim H(7,2,3)$$"
   ]
  },
  {
   "cell_type": "markdown",
   "metadata": {},
   "source": [
    "---\n",
    "Customers arrive at a check-in counter for a planetarium according to a Poisson distribution at an average of seven per hour.\n",
    "If it takes approximately ten minutes to serve each customer, find the mean and variance of the total service time in minutes for customers arriving during a 1-hour period. What is the probability total service time exceeds 2 hours?"
   ]
  },
  {
   "cell_type": "markdown",
   "metadata": {},
   "source": [
    "$$\n",
    "mu = 70\n",
    "$$\n",
    "$$\n",
    "sigma^2 = 700\n",
    "$$\n",
    "$$\n",
    "P(Z > 120 \\space Minutes) = P(Z > \\frac{120-70}{\\sqrt(700)}) = P(Z > 1.89) = 1 - 0.97062 = 0.02938\n",
    "$$"
   ]
  }
 ],
 "metadata": {
  "kernelspec": {
   "display_name": "Python 3",
   "language": "python",
   "name": "python3"
  },
  "language_info": {
   "codemirror_mode": {
    "name": "ipython",
    "version": 3
   },
   "file_extension": ".py",
   "mimetype": "text/x-python",
   "name": "python",
   "nbconvert_exporter": "python",
   "pygments_lexer": "ipython3",
   "version": "3.11.3"
  }
 },
 "nbformat": 4,
 "nbformat_minor": 2
}
