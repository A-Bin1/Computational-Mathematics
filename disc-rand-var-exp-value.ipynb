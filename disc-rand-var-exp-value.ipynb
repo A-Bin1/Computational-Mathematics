{
 "cells": [
  {
   "cell_type": "markdown",
   "metadata": {},
   "source": [
    "More Practice with Discrete Random Variables: Expected Value"
   ]
  },
  {
   "cell_type": "markdown",
   "metadata": {},
   "source": [
    "---\n",
    "Suppose there is a game where a person is dealt a single card from an ordinary 52-card playing deck. A person is paid $10 for a jack or a queen and $20 for a king or an ace. The person pays $4 for any other card. What is the expected gain from this game?"
   ]
  },
  {
   "cell_type": "markdown",
   "metadata": {},
   "source": [
    "$$\n",
    "E[X] = 10(\\frac{8}{52}) + 20(\\frac{8}{52}) - 4(\\frac{36}{52})\n",
    "$$\n",
    "$$\n",
    "E[X] = \\frac{80}{52} + \\frac{160}{52} - \\frac{144}{52}\n",
    "$$\n",
    "$$\n",
    "E[X] = \\$ 1.85\n",
    "$$"
   ]
  },
  {
   "cell_type": "markdown",
   "metadata": {},
   "source": [
    "Suppose in the above mentioned game, one person drew 6 face cards and 4 aces in 10 games. The house then decides to move the goal post. A person is paid $5 for drawing a face card and $30 for drawing an ace. A person who draws any other card pays $3. If a person plays this game, what is the expected gain?"
   ]
  },
  {
   "cell_type": "markdown",
   "metadata": {},
   "source": [
    "$$\n",
    "E[X] = 5(\\frac{12}{52}) + 30(\\frac{4}{52}) - 3(\\frac{36}{52})\n",
    "$$\n",
    "$$\n",
    "E[X] = \\frac{60}{52} + \\frac{120}{52} - \\frac{108}{52}\n",
    "$$\n",
    "$$\n",
    "E[X] = \\$ 1.38\n",
    "$$"
   ]
  },
  {
   "cell_type": "markdown",
   "metadata": {},
   "source": [
    "---\n",
    "US Imports for all types of clay decreased by 8% to 280,000 tons in 2023. (https://pubs.usgs.gov/periodicals/mcs2024/mcs2024-clays.pdf) \n",
    "\n",
    "Brazil, Mexico, and China were the major sources for\n",
    "imported clays. \n",
    "\n",
    "For 2019-2022 imports, all clay types combined are as follows: \n",
    "\n",
    "Brazil 66%\n",
    "\n",
    "Mexico 16%\n",
    "\n",
    "China 4%\n",
    "\n",
    "Other 14%\n",
    "\n",
    "Suppose these imported clays are sold at different price points per ton. Brazil = $10, Mexico = $9, China = $8, Other = $7. What is the expected value?"
   ]
  },
  {
   "cell_type": "markdown",
   "metadata": {},
   "source": [
    "$$\n",
    "E[X] = 10(0.66*280,000) + 9(0.16*280,000) + 8(0.04*280,000) + 7(0.14*280,000)\n",
    "$$\n",
    "$$\n",
    "E[X] = 1,848,000 + 403,200 + 89,600 + 274,400\n",
    "$$\n",
    "$$\n",
    "E[X] = \\$ 2,615,200\n",
    "$$"
   ]
  }
 ],
 "metadata": {
  "language_info": {
   "name": "python"
  }
 },
 "nbformat": 4,
 "nbformat_minor": 2
}
