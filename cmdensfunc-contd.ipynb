{
 "cells": [
  {
   "cell_type": "markdown",
   "metadata": {},
   "source": [
    "Cumulative Density Function Problems (Cont'd) - Finding the Probability of Continuous Random Variables"
   ]
  },
  {
   "cell_type": "markdown",
   "metadata": {},
   "source": [
    "---\n",
    "Deep-diving ichthyosaurs could plunge down to 2,000 ft (https://www.livescience.com/ichthyosaur-facts)\n",
    "\n",
    "Suppose an ichthyosaurs swims at most 1500 meters per week. The weekly distance shows a relative frequency behavior that increases steadily up to 1000 meters and then levels off between 1000 and 1500 meters. If Y denotes weekly distance in thousands of meters, the relative frequency of distance can be modeled by:"
   ]
  },
  {
   "cell_type": "markdown",
   "metadata": {},
   "source": [
    "$$\n",
    "f(y) = \\left\\{\\begin{matrix} y, \\space 0 \\leq y \\leq 1 \\\\\n",
    "1, \\space \\space 1 \\leq y \\leq 1.5 \\\\\n",
    "0,\\space elsewhere\\\\\n",
    "\\end{matrix}\\right\\}\n",
    "$$"
   ]
  },
  {
   "cell_type": "markdown",
   "metadata": {},
   "source": [
    "Find F(y)\n",
    "\n",
    "$$\n",
    "f(y) = \\left\\{\\begin{matrix} 0, \\space \\space y \\leq 0 \\\\\n",
    "\\frac{y^2}{2}, \\space \\space 0 \\leq y \\leq 1 \\\\\n",
    "y - \\frac{1}{2},\\space 1 < y \\leq 1.5\\\\\n",
    "1,\\space y > 1.5\\\\\n",
    "\\end{matrix}\\right\\}\n",
    "$$"
   ]
  },
  {
   "cell_type": "markdown",
   "metadata": {},
   "source": [
    "$$\n",
    "P(0 \\leq Y \\leq 0.4) = F(0.4) - F(0) = \\frac{0.4^2}{2} - 0 = 0.08\n",
    "$$"
   ]
  },
  {
   "cell_type": "markdown",
   "metadata": {},
   "source": [
    "A mastodon tusk was found off Florida’s coast. (https://wtop.com/trending-now/2024/06/fossil-hunting-diver-says-he-has-found-a-large-section-of-mastodon-tusk-off-floridas-coast/)\n",
    "\n",
    "The tusk measures about 4 feet (1.2 meters) and weighs 70 pounds (31 kilograms) and was found at a depth of about 25 feet (7.6 meters) near Venice, Florida.\n",
    "\n",
    "Suppose the diver swims at most 200 meters per week. The weekly distance shows a relative frequency behavior that increases steadily up to 100 meters and then levels off between 100 and 200 meters. If Y denotes weekly distance in hundreds of meters, the relative frequency of distance can be modeled by:"
   ]
  },
  {
   "cell_type": "markdown",
   "metadata": {},
   "source": [
    "$$\n",
    "f(y) = \\left\\{\\begin{matrix} y, \\space 0 \\leq y \\leq 1 \\\\\n",
    "1, \\space \\space 1 \\leq y \\leq 2 \\\\\n",
    "0,\\space elsewhere\\\\\n",
    "\\end{matrix}\\right\\}\n",
    "$$"
   ]
  },
  {
   "cell_type": "markdown",
   "metadata": {},
   "source": [
    "Find F(y)\n",
    "\n",
    "$$\n",
    "f(y) = \\left\\{\\begin{matrix} 0, \\space \\space y \\leq 0 \\\\\n",
    "\\frac{y^2}{2}, \\space \\space 0 \\leq y \\leq 1 \\\\\n",
    "y - \\frac{1}{2},\\space 1 < y \\leq 2\\\\\n",
    "1,\\space y > 2\\\\\n",
    "\\end{matrix}\\right\\}\n",
    "$$"
   ]
  },
  {
   "cell_type": "markdown",
   "metadata": {},
   "source": [
    "$$\n",
    "P(0.2 \\leq Y \\leq 1.3) = F(1.3) - F(0.2) = (1.3-0.5) - \\frac{0.2^2}{2} = 0.8 - 0.02 = 0.78 \n",
    "$$"
   ]
  },
  {
   "cell_type": "markdown",
   "metadata": {},
   "source": [
    "Suppose the total distance from Pokeballs thrown to collect Lucario, or Wyrdeer per week is a maximum 50 meters. The weekly distance shows a relative frequency behavior that increases steadily up to 20 meters and then levels off between 20 and 50 meters. If Y denotes weekly distance in hundreds of meters, the relative frequency of distance can be modeled by:"
   ]
  },
  {
   "cell_type": "markdown",
   "metadata": {},
   "source": [
    "$$\n",
    "f(y) = \\left\\{\\begin{matrix} y, \\space 0 \\leq y \\leq 0.2 \\\\\n",
    "1, \\space \\space 0.2 \\leq y \\leq 0.5 \\\\\n",
    "0,\\space elsewhere\\\\\n",
    "\\end{matrix}\\right\\}\n",
    "$$"
   ]
  },
  {
   "cell_type": "markdown",
   "metadata": {},
   "source": [
    "Find F(y)\n",
    "\n",
    "$$\n",
    "f(y) = \\left\\{\\begin{matrix} 0, \\space \\space y \\leq 0 \\\\\n",
    "\\frac{y^2}{2}, \\space \\space 0 \\leq y \\leq 0.2 \\\\\n",
    "y - \\frac{1}{2},\\space 0.2 < y \\leq 0.5\\\\\n",
    "1,\\space y > 0.5\\\\\n",
    "\\end{matrix}\\right\\}\n",
    "$$"
   ]
  },
  {
   "cell_type": "markdown",
   "metadata": {},
   "source": [
    "What is the probability of a weekly distance between 0.22 and 0.32?\n",
    "\n",
    "$$\n",
    "P(0.22 \\leq y \\leq 0.32) = F(0.32) - F(0.22) = \\frac{0.32^2}{2} - \\frac{0.22^2}{2} = 0.0272 \n",
    "$$"
   ]
  }
 ],
 "metadata": {
  "language_info": {
   "name": "python"
  }
 },
 "nbformat": 4,
 "nbformat_minor": 2
}
