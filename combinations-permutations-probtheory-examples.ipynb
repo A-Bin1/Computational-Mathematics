{
 "cells": [
  {
   "cell_type": "markdown",
   "metadata": {},
   "source": [
    "Example Problems Inspired by Mathematical Statistics with Applications, 7th edition, by Wackerly, Mendenhall, and Scheaffer  (ISBN 9781337901185)"
   ]
  },
  {
   "cell_type": "markdown",
   "metadata": {},
   "source": [
    "-----------------------------\n",
    "Gary and Carter own a steel manufacturing plant and need to hire for 15 entry-level positions out of 300 available applicants. How many possible combinations are available from the applicant pool? (order does not matter)."
   ]
  },
  {
   "cell_type": "code",
   "execution_count": 1,
   "metadata": {},
   "outputs": [
    {
     "data": {
      "text/plain": [
       "7687875149867948862546720"
      ]
     },
     "execution_count": 1,
     "metadata": {},
     "output_type": "execute_result"
    }
   ],
   "source": [
    "from math import comb\n",
    "comb(300,15)"
   ]
  },
  {
   "cell_type": "markdown",
   "metadata": {},
   "source": [
    "-------------------------------------------------\n",
    "Dominick and Henry need to plan employee hours for a rubber manufacturing plant. 24 employees need to each be scheduled for one 8 hour shift either day or night. How many possible combinations are available among the day and night shifts for those 24 employees? They will assign the day shift first and night shift second."
   ]
  },
  {
   "cell_type": "code",
   "execution_count": 5,
   "metadata": {},
   "outputs": [
    {
     "name": "stdout",
     "output_type": "stream",
     "text": [
      "2704157\n"
     ]
    }
   ],
   "source": [
    "#for day shift, N(Day Shift) = 24 c 12\n",
    "#comb(24,12)\n",
    "\n",
    "#for both shifts, N(Day Shift) + N(Night Shift)\n",
    "#*If Day Shift has already been assigned, 12 employees are left for 12 spots on the Night Shift.\n",
    "ans = comb(24,12) + comb(12,12)\n",
    "print(ans)"
   ]
  },
  {
   "cell_type": "markdown",
   "metadata": {},
   "source": [
    "-------------------------------\n",
    "The northern lights can be seen an annual average of 300 days in Churchill and 240 days in Yellowknife. What is the probability you will not see the northern lights in neither Churchill nor Yellowknife in a given year?"
   ]
  },
  {
   "cell_type": "markdown",
   "metadata": {},
   "source": [
    "Probabilities of seeing the northern lights in each city:\n",
    "$$\n",
    "P(C) = 300/365 = 60/73 = 0.8219\n",
    "$$\n",
    "$$\n",
    "P(Y) = 240/365 = 48/73 = 0.6575\n",
    "$$\n",
    "Probabilities of not seeing the northern lights in each city:\n",
    "$$\n",
    "P(C^c) = 1 - P(C) = 0.1781\n",
    "$$\n",
    "$$\n",
    "P(Y^c) = 1 - P(Y) = 0.3425\n",
    "$$\n",
    "We are assuming C and Y are independent where\n",
    "$$\n",
    "P(C|Y) = P(C)\n",
    "$$\n",
    "$$\n",
    "P(Y|C) = P(Y)\n",
    "$$\n",
    "$$\n",
    "P(C ∩ Y) = P(C)P(Y)\n",
    "$$\n",
    "$$\n",
    "P(C^c|Y^c) = P(C^c)\n",
    "$$\n",
    "$$\n",
    "P(Y^c|C^c) = P(Y^c)\n",
    "$$\n",
    "Then,\n",
    "$$\n",
    "P(C^c ∩ Y^c) = P(C^c)P(Y^c) = (0.3425)(0.1781) = 0.061\n",
    "$$"
   ]
  },
  {
   "cell_type": "markdown",
   "metadata": {},
   "source": [
    "----------------------------\n",
    "Snowkiting can be done with a board or skiis. Suppose a kite shop ordered a shipment where 35% are skiis with black coloring, 25% are boards with black coloring, 5% are boots with red coloring, and the rest are kites with red coloring. What is the probability of selecting a product at random where it is either a board or red-colored product?"
   ]
  },
  {
   "cell_type": "markdown",
   "metadata": {},
   "source": [
    "$$\n",
    "P(B ∪ R) = P(B) + P(R) - P(B ∩ R) \n",
    "$$\n",
    "$$\n",
    "P(B) = 0.25\n",
    "$$\n",
    "$$\n",
    "P(R) = 0.05 + 0.35 = 0.4\n",
    "$$\n",
    "$$\n",
    "P(B ∩ R) = ⌀\n",
    "$$\n",
    "$$\n",
    "P(B ∪ R) = 0.65\n",
    "$$"
   ]
  },
  {
   "cell_type": "markdown",
   "metadata": {},
   "source": [
    "--------------------\n",
    "A gallery has 8 oil paintings and only 4 spaces available on a wall. How many different arrangements are available?"
   ]
  },
  {
   "cell_type": "code",
   "execution_count": 6,
   "metadata": {},
   "outputs": [
    {
     "data": {
      "text/plain": [
       "1680"
      ]
     },
     "execution_count": 6,
     "metadata": {},
     "output_type": "execute_result"
    }
   ],
   "source": [
    "from math import perm\n",
    "perm(8,4)"
   ]
  },
  {
   "cell_type": "markdown",
   "metadata": {},
   "source": [
    "A library has 4 yellow books, 2 orange books, and 1 green book on a shelf. What is the probability of choosing exactly 1 yellow book out of 4 total?"
   ]
  },
  {
   "cell_type": "code",
   "execution_count": 2,
   "metadata": {},
   "outputs": [
    {
     "name": "stdout",
     "output_type": "stream",
     "text": [
      "0.11428571428571428\n"
     ]
    }
   ],
   "source": [
    "from math import comb\n",
    "yellow = comb(4,1)\n",
    "the_rest = comb(3,3)\n",
    "denom = comb(7,4)\n",
    "num = yellow*the_rest\n",
    "print(num/denom)"
   ]
  },
  {
   "cell_type": "markdown",
   "metadata": {},
   "source": [
    "A library has 3 books by Casteneda, 1 book by Coelho, 1 book by Sartre, 1 book by Solden, and 1 book by Ellison on a shelf that fits 4. How many arrangements are available?"
   ]
  },
  {
   "cell_type": "code",
   "execution_count": 1,
   "metadata": {},
   "outputs": [
    {
     "data": {
      "text/plain": [
       "360"
      ]
     },
     "execution_count": 1,
     "metadata": {},
     "output_type": "execute_result"
    }
   ],
   "source": [
    "from math import perm\n",
    "perm(6,4)"
   ]
  },
  {
   "cell_type": "markdown",
   "metadata": {},
   "source": [
    "How many arrangements of the seven leaves if four are chosen?"
   ]
  },
  {
   "cell_type": "code",
   "execution_count": 2,
   "metadata": {},
   "outputs": [
    {
     "data": {
      "text/plain": [
       "840"
      ]
     },
     "execution_count": 2,
     "metadata": {},
     "output_type": "execute_result"
    }
   ],
   "source": [
    "from math import perm\n",
    "perm(7,4)"
   ]
  },
  {
   "cell_type": "markdown",
   "metadata": {},
   "source": [
    "Suppose there are 21 benches colored brown and 4 colored black. What is the probability of selecting exactly one brown out of 5?"
   ]
  },
  {
   "cell_type": "code",
   "execution_count": 3,
   "metadata": {},
   "outputs": [
    {
     "name": "stdout",
     "output_type": "stream",
     "text": [
      "0.0010319917440660474\n"
     ]
    }
   ],
   "source": [
    "from math import comb\n",
    "boro = comb(21,1)\n",
    "the_rest = comb(4,4)\n",
    "denom = comb(21,5)\n",
    "num = boro*the_rest\n",
    "print(num/denom)"
   ]
  }
 ],
 "metadata": {
  "kernelspec": {
   "display_name": "Python 3",
   "language": "python",
   "name": "python3"
  },
  "language_info": {
   "codemirror_mode": {
    "name": "ipython",
    "version": 3
   },
   "file_extension": ".py",
   "mimetype": "text/x-python",
   "name": "python",
   "nbconvert_exporter": "python",
   "pygments_lexer": "ipython3",
   "version": "3.11.3"
  }
 },
 "nbformat": 4,
 "nbformat_minor": 2
}
